{
 "cells": [
  {
   "cell_type": "markdown",
   "id": "356edc04",
   "metadata": {},
   "source": [
    "# <center><span style=\"color: red;\">Project Title</span>\n",
    "\n",
    "### <center><span style=\"color:cyan;\"> AI-Powered Symptom Checker Chatbot for Early Disease Prediction and Preventive Healthcare"
   ]
  },
  {
   "cell_type": "markdown",
   "id": "6ebb27bb",
   "metadata": {},
   "source": [
    "---"
   ]
  },
  {
   "cell_type": "markdown",
   "id": "4bfa9693",
   "metadata": {},
   "source": [
    "## <span style=\"color: #FFDF00;\">Understand the Structure and Types of Variables"
   ]
  },
  {
   "cell_type": "code",
   "execution_count": 15,
   "id": "4de0fef2",
   "metadata": {},
   "outputs": [
    {
     "data": {
      "text/plain": [
       "(100000, 139)"
      ]
     },
     "execution_count": 15,
     "metadata": {},
     "output_type": "execute_result"
    }
   ],
   "source": [
    "import pandas as pd\n",
    "\n",
    "df = pd.read_csv('p.csv')  # Use the new, realistic dataset\n",
    "df.shape  # Show shape for confirmation\n"
   ]
  },
  {
   "cell_type": "code",
   "execution_count": 16,
   "id": "1aa73f2a",
   "metadata": {},
   "outputs": [
    {
     "name": "stdout",
     "output_type": "stream",
     "text": [
      "['patient_id', 'age', 'age_group', 'runny_nose', 'abdominal_pain', 'abnormal_menstruation', 'acidity', 'acute_liver_failure', 'altered_sensorium', 'anxiety', 'back_pain', 'belly_pain', 'blackheads', 'bladder_discomfort', 'blister', 'blood_in_sputum', 'bloody_stool', 'blurred_and_distorted_vision', 'breathlessness', 'brittle_nails', 'bruising', 'burning_micturition', 'chest_pain', 'chills', 'cold_hands_and_feets', 'coma', 'congestion', 'constipation', 'continuous_feel_of_urine', 'continuous_sneezing', 'cough', 'cramps', 'dark_urine', 'dehydration', 'depression', 'diarrhoea', 'dischromic__patches', 'distention_of_abdomen', 'dizziness', 'drying_and_tingling_lips', 'enlarged_thyroid', 'excessive_hunger', 'extra_marital_contacts', 'family_history', 'fast_heart_rate', 'fatigue', 'fluid_overload', 'foul_smell_of_urine', 'headache', 'high_fever', 'hip_joint_pain', 'history_of_alcohol_consumption', 'increased_appetite', 'indigestion', 'inflammatory_nails', 'internal_itching', 'irregular_sugar_level', 'irritability', 'irritation_in_anus', 'itching', 'joint_pain', 'knee_pain', 'lack_of_concentration', 'lethargy', 'loss_of_appetite', 'loss_of_balance', 'loss_of_smell', 'malaise', 'mild_fever', 'mood_swings', 'movement_stiffness', 'mucoid_sputum', 'muscle_pain', 'muscle_wasting', 'muscle_weakness', 'nausea', 'neck_pain', 'nodal_skin_eruptions', 'obesity', 'pain_behind_the_eyes', 'pain_during_bowel_movements', 'pain_in_anal_region', 'painful_walking', 'palpitations', 'passage_of_gases', 'patches_in_throat', 'phlegm', 'polyuria', 'prominent_veins_on_calf', 'puffy_face_and_eyes', 'pus_filled_pimples', 'receiving_blood_transfusion', 'receiving_unsterile_injections', 'red_sore_around_nose', 'red_spots_over_body', 'redness_of_eyes', 'restlessness', 'rusty_sputum', 'scurring', 'shivering', 'silver_like_dusting', 'sinus_pressure', 'skin_peeling', 'skin_rash', 'slurred_speech', 'small_dents_in_nails', 'spinning_movements', 'spotting__urination', 'stiff_neck', 'stomach_bleeding', 'stomach_pain', 'sunken_eyes', 'sweating', 'swelled_lymph_nodes', 'swelling_joints', 'swelling_of_stomach', 'swollen_blood_vessels', 'swollen_extremeties', 'swollen_legs', 'throat_irritation', 'toxic_look_(typhos)', 'ulcers_on_tongue', 'unsteadiness', 'visual_disturbances', 'vomiting', 'watering_from_eyes', 'weakness_in_limbs', 'weakness_of_one_body_side', 'weight_gain', 'weight_loss', 'yellow_crust_ooze', 'yellow_urine', 'yellowing_of_eyes', 'yellowish_skin', 'gender', 'disease', 'precaution', 'doctor_type', 'total_symptoms']\n"
     ]
    }
   ],
   "source": [
    "print(df.columns.tolist()) # All column names"
   ]
  },
  {
   "cell_type": "code",
   "execution_count": 17,
   "id": "35b09073",
   "metadata": {},
   "outputs": [
    {
     "name": "stdout",
     "output_type": "stream",
     "text": [
      "<class 'pandas.core.frame.DataFrame'>\n",
      "RangeIndex: 100000 entries, 0 to 99999\n",
      "Columns: 139 entries, patient_id to total_symptoms\n",
      "dtypes: int64(133), object(6)\n",
      "memory usage: 106.0+ MB\n"
     ]
    }
   ],
   "source": [
    "df.info()                  # Data types + non-null"
   ]
  },
  {
   "cell_type": "code",
   "execution_count": 18,
   "id": "a9f398f3",
   "metadata": {},
   "outputs": [
    {
     "name": "stdout",
     "output_type": "stream",
     "text": [
      "patient_id        0\n",
      "age               0\n",
      "age_group         0\n",
      "runny_nose        0\n",
      "abdominal_pain    0\n",
      "                 ..\n",
      "gender            0\n",
      "disease           0\n",
      "precaution        0\n",
      "doctor_type       0\n",
      "total_symptoms    0\n",
      "Length: 139, dtype: int64\n"
     ]
    }
   ],
   "source": [
    "# Check missing values\n",
    "print(df.isnull().sum())"
   ]
  },
  {
   "cell_type": "markdown",
   "id": "d8cdfb74",
   "metadata": {},
   "source": [
    "---"
   ]
  },
  {
   "cell_type": "markdown",
   "id": "12e815c5",
   "metadata": {},
   "source": [
    "## <span style=\"color: #FFDF00;\">Identify Imbalances, Anomalies, Outliers"
   ]
  },
  {
   "cell_type": "markdown",
   "id": "1ab00fcd",
   "metadata": {},
   "source": [
    "#### A. Class Imbalance"
   ]
  },
  {
   "cell_type": "code",
   "execution_count": 19,
   "id": "8a70933a",
   "metadata": {},
   "outputs": [
    {
     "data": {
      "text/plain": [
       "disease\n",
       "diabetes                                   7431\n",
       "common cold                                6954\n",
       "migraine                                   6050\n",
       "allergy                                    4788\n",
       "hypertension                               4438\n",
       "arthritis                                  4277\n",
       "typhoid                                    3598\n",
       "tuberculosis                               2965\n",
       "pneumonia                                  2907\n",
       "chicken pox                                2500\n",
       "dengue                                     2348\n",
       "heart attack                               1997\n",
       "hypothyroidism                             1958\n",
       "aids                                       1866\n",
       "malaria                                    1789\n",
       "fungal infection                           1751\n",
       "dimorphic hemmorhoids(piles)               1748\n",
       "alcoholic hepatitis                        1738\n",
       "hepatitis a                                1735\n",
       "jaundice                                   1725\n",
       "osteoarthristis                            1723\n",
       "gastroenteritis                            1719\n",
       "impetigo                                   1718\n",
       "(vertigo) paroymsal  positional vertigo    1708\n",
       "hepatitis e                                1707\n",
       "paralysis (brain hemorrhage)               1701\n",
       "hepatitis b                                1701\n",
       "drug reaction                              1698\n",
       "bronchial asthma                           1698\n",
       "acne                                       1692\n",
       "chronic cholestasis                        1688\n",
       "hyperthyroidism                            1687\n",
       "hepatitis d                                1684\n",
       "psoriasis                                  1684\n",
       "hypoglycemia                               1684\n",
       "hepatitis c                                1682\n",
       "peptic ulcer diseae                        1673\n",
       "varicose veins                             1669\n",
       "gerd                                       1659\n",
       "urinary tract infection                    1648\n",
       "cervical spondylosis                       1614\n",
       "Name: count, dtype: int64"
      ]
     },
     "execution_count": 19,
     "metadata": {},
     "output_type": "execute_result"
    }
   ],
   "source": [
    "df['disease'].value_counts()"
   ]
  },
  {
   "cell_type": "code",
   "execution_count": 20,
   "id": "ec5702dc",
   "metadata": {},
   "outputs": [
    {
     "data": {
      "image/png": "[encoded data removed]",
      "text/plain": [
       "<Figure size 640x480 with 1 Axes>"
      ]
     },
     "metadata": {},
     "output_type": "display_data"
    }
   ],
   "source": [
    "from matplotlib import pyplot as plt\n",
    "# Plot the top 10 most common diseases\n",
    "df['disease'].value_counts().head(10).plot(kind='bar',color='skyblue')\n",
    "plt.title('Top 10 Most Common Diseases')\n",
    "plt.xlabel('Disease')\n",
    "plt.ylabel('Count')\n",
    "plt.show()\n"
   ]
  },
  {
   "cell_type": "markdown",
   "id": "f753cc3e",
   "metadata": {},
   "source": [
    "### B. Gender Distribution"
   ]
  },
  {
   "cell_type": "code",
   "execution_count": 21,
   "id": "276e5092",
   "metadata": {},
   "outputs": [
    {
     "data": {
      "text/plain": [
       "gender\n",
       "F    50217\n",
       "M    49783\n",
       "Name: count, dtype: int64"
      ]
     },
     "execution_count": 21,
     "metadata": {},
     "output_type": "execute_result"
    }
   ],
   "source": [
    "df['gender'].value_counts()"
   ]
  },
  {
   "cell_type": "markdown",
   "id": "86393680",
   "metadata": {},
   "source": [
    "### C. Age Outliers"
   ]
  },
  {
   "cell_type": "code",
   "execution_count": 22,
   "id": "710d22c2",
   "metadata": {},
   "outputs": [
    {
     "data": {
      "text/plain": [
       "count    100000.000000\n",
       "mean         42.458980\n",
       "std          22.992791\n",
       "min           1.000000\n",
       "25%          24.000000\n",
       "50%          40.000000\n",
       "75%          58.000000\n",
       "max          90.000000\n",
       "Name: age, dtype: float64"
      ]
     },
     "execution_count": 22,
     "metadata": {},
     "output_type": "execute_result"
    }
   ],
   "source": [
    "df['age'].describe()  # Mean, min, max"
   ]
  },
  {
   "cell_type": "code",
   "execution_count": 23,
   "id": "884069f5",
   "metadata": {},
   "outputs": [
    {
     "data": {
      "image/png": "[encoded data removed]",
      "text/plain": [
       "<Figure size 640x480 with 1 Axes>"
      ]
     },
     "metadata": {},
     "output_type": "display_data"
    },
    {
     "data": {
      "image/png": "[encoded data removed]",
      "text/plain": [
       "<Figure size 640x480 with 1 Axes>"
      ]
     },
     "metadata": {},
     "output_type": "display_data"
    }
   ],
   "source": [
    "import seaborn as sns\n",
    "import matplotlib.pyplot as plt\n",
    "plt.style.use('seaborn-v0_8-whitegrid')\n",
    "colors = plt.get_cmap('tab10').colors\n",
    "\n",
    "sns.boxplot(x=df['age'], color=\"skyblue\")  # green (Set2)\n",
    "plt.title('Boxplot of Age')\n",
    "plt.show()\n",
    "\n",
    "sns.boxplot(x=df['total_symptoms'], color=colors[4])  # blue (Set2)\n",
    "plt.title('Boxplot of Total Symptoms')\n",
    "plt.show()\n"
   ]
  },
  {
   "cell_type": "markdown",
   "id": "4d27f238",
   "metadata": {},
   "source": [
    "---"
   ]
  },
  {
   "cell_type": "markdown",
   "id": "dfbff014",
   "metadata": {},
   "source": [
    "## <span style=\"color: #FFDF00;\"> 3. Analyze Distributions of Key Features"
   ]
  },
  {
   "cell_type": "markdown",
   "id": "14444d22",
   "metadata": {},
   "source": [
    "## A. Age Histogram"
   ]
  },
  {
   "cell_type": "code",
   "execution_count": 24,
   "id": "9a17390e",
   "metadata": {},
   "outputs": [
    {
     "data": {
      "image/png": "[encoded data removed]",
      "text/plain": [
       "<Figure size 640x480 with 1 Axes>"
      ]
     },
     "metadata": {},
     "output_type": "display_data"
    }
   ],
   "source": [
    "import matplotlib.pyplot as plt\n",
    "plt.style.use('seaborn-v0_8-whitegrid')\n",
    "colors = plt.get_cmap('tab10').colors\n",
    "\n",
    "df['age'].plot.hist(bins=20, color=colors[9], edgecolor='black')  # color=colors[0] for a single series\n",
    "plt.title(\"Age Distribution\")\n",
    "plt.xlabel(\"Age\")\n",
    "plt.ylabel(\"Count\")\n",
    "plt.show()\n"
   ]
  },
  {
   "cell_type": "markdown",
   "id": "4a095bf6",
   "metadata": {},
   "source": [
    "## B. Gender Bar Chart"
   ]
  },
  {
   "cell_type": "code",
   "execution_count": 25,
   "id": "8eaf4291",
   "metadata": {},
   "outputs": [
    {
     "data": {
      "image/png": "[encoded data removed]",
      "text/plain": [
       "<Figure size 640x480 with 1 Axes>"
      ]
     },
     "metadata": {},
     "output_type": "display_data"
    }
   ],
   "source": [
    "# Top 10 most frequent diseases\n",
    "import matplotlib.pyplot as plt\n",
    "\n",
    "df['gender'].value_counts().plot(\n",
    "    kind='bar',\n",
    "    color='#CC79A7',\n",
    "    edgecolor='black'\n",
    ")\n",
    "plt.title(\"Gender Distribution\")\n",
    "plt.xlabel(\"Gender\")\n",
    "plt.ylabel(\"Count\")\n",
    "plt.show()\n"
   ]
  },
  {
   "cell_type": "markdown",
   "id": "63c40c17",
   "metadata": {},
   "source": [
    "## C. Symptom Count Distribution"
   ]
  },
  {
   "cell_type": "code",
   "execution_count": 26,
   "id": "9a187592",
   "metadata": {},
   "outputs": [
    {
     "data": {
      "text/plain": [
       "<Axes: ylabel='Frequency'>"
      ]
     },
     "execution_count": 26,
     "metadata": {},
     "output_type": "execute_result"
    },
    {
     "data": {
      "image/png": "[encoded data removed]",
      "text/plain": [
       "<Figure size 640x480 with 1 Axes>"
      ]
     },
     "metadata": {},
     "output_type": "display_data"
    }
   ],
   "source": [
    "# Use the same non_symptom_cols as elsewhere for consistency\n",
    "non_symptom_cols = ['age', 'gender', 'disease', 'precaution', 'doctor_type', 'total_symptoms', 'patient_id', 'age_group']\n",
    "# Only keep columns that are not in non_symptom_cols and are numeric\n",
    "symptom_cols = [\n",
    "    col for col in df.columns\n",
    "    if col not in non_symptom_cols and pd.api.types.is_numeric_dtype(df[col])\n",
    "]\n",
    "df[symptom_cols] = df[symptom_cols].astype(int)\n",
    "df['total_symptoms'] = df[symptom_cols].sum(axis=1)\n",
    "df['total_symptoms'].plot.hist()\n",
    "\n",
    "\n",
    "\n"
   ]
  },
  {
   "cell_type": "markdown",
   "id": "0028725b",
   "metadata": {},
   "source": [
    "## D. Symptoms Columns"
   ]
  },
  {
   "cell_type": "code",
   "execution_count": 27,
   "id": "fec10939",
   "metadata": {},
   "outputs": [
    {
     "name": "stdout",
     "output_type": "stream",
     "text": [
      "fatigue             30397\n",
      "vomiting            28470\n",
      "high_fever          25683\n",
      "chills              21887\n",
      "nausea              20311\n",
      "headache            19677\n",
      "chest_pain          16898\n",
      "loss_of_appetite    16626\n",
      "abdominal_pain      15527\n",
      "itching             15473\n",
      "dtype: int64\n"
     ]
    },
    {
     "data": {
      "image/png": "[encoded data removed]",
      "text/plain": [
       "<Figure size 640x480 with 1 Axes>"
      ]
     },
     "metadata": {},
     "output_type": "display_data"
    }
   ],
   "source": [
    "# List of symptom columns (excluding non-symptom columns)\n",
    "non_symptom_cols = ['age', 'gender', 'disease', 'precaution', 'doctor_type', 'total_symptoms', 'patient_id', 'age_group']\n",
    "# Only keep columns that are not in non_symptom_cols and are numeric\n",
    "symptom_cols = [\n",
    "\tcol for col in df.columns\n",
    "\tif col not in non_symptom_cols and pd.api.types.is_numeric_dtype(df[col])\n",
    "]\n",
    "\n",
    "# Ensure all symptom columns are integers for correct summing\n",
    "df[symptom_cols] = df[symptom_cols].astype(int)\n",
    "\n",
    "# Count how many times each symptom appears (sum of 1s)\n",
    "symptom_counts = df[symptom_cols].sum().sort_values(ascending=False)\n",
    "print(symptom_counts.head(10))\n",
    "\n",
    "# Plot top 10 symptoms\n",
    "symptom_counts.head(10).plot(kind='bar', color='lightcoral')\n",
    "plt.title('Top 10 Most Common Symptoms')\n",
    "plt.xlabel('Symptom')\n",
    "plt.ylabel('Count')\n",
    "plt.show()"
   ]
  },
  {
   "cell_type": "markdown",
   "id": "1e86c98b",
   "metadata": {},
   "source": [
    "---"
   ]
  },
  {
   "cell_type": "markdown",
   "id": "967450e3",
   "metadata": {},
   "source": [
    "## <span style=\"color: #FFDF00;\">Examine Relationships Between Features and Target"
   ]
  },
  {
   "cell_type": "markdown",
   "id": "8db2097b",
   "metadata": {},
   "source": [
    "### A. Age Group vs Disease"
   ]
  },
  {
   "cell_type": "code",
   "execution_count": 28,
   "id": "2c55518b",
   "metadata": {},
   "outputs": [
    {
     "name": "stderr",
     "output_type": "stream",
     "text": [
      "/var/folders/b1/zg8gvzyd2bs4s02k1b6464rc0000gn/T/ipykernel_86033/195877036.py:2: FutureWarning: The default of observed=False is deprecated and will be changed to True in a future version of pandas. Pass observed=False to retain current behavior or observed=True to adopt the future default and silence this warning.\n",
      "  df.groupby('age_group')['disease'].value_counts().unstack().fillna(0).head()\n"
     ]
    },
    {
     "data": {
      "text/html": [
       "<div>\n",
       "<style scoped>\n",
       "    .dataframe tbody tr th:only-of-type {\n",
       "        vertical-align: middle;\n",
       "    }\n",
       "\n",
       "    .dataframe tbody tr th {\n",
       "        vertical-align: top;\n",
       "    }\n",
       "\n",
       "    .dataframe thead th {\n",
       "        text-align: right;\n",
       "    }\n",
       "</style>\n",
       "<table border=\"1\" class=\"dataframe\">\n",
       "  <thead>\n",
       "    <tr style=\"text-align: right;\">\n",
       "      <th>disease</th>\n",
       "      <th>(vertigo) paroymsal  positional vertigo</th>\n",
       "      <th>acne</th>\n",
       "      <th>aids</th>\n",
       "      <th>alcoholic hepatitis</th>\n",
       "      <th>allergy</th>\n",
       "      <th>arthritis</th>\n",
       "      <th>bronchial asthma</th>\n",
       "      <th>cervical spondylosis</th>\n",
       "      <th>chicken pox</th>\n",
       "      <th>chronic cholestasis</th>\n",
       "      <th>...</th>\n",
       "      <th>migraine</th>\n",
       "      <th>osteoarthristis</th>\n",
       "      <th>paralysis (brain hemorrhage)</th>\n",
       "      <th>peptic ulcer diseae</th>\n",
       "      <th>pneumonia</th>\n",
       "      <th>psoriasis</th>\n",
       "      <th>tuberculosis</th>\n",
       "      <th>typhoid</th>\n",
       "      <th>urinary tract infection</th>\n",
       "      <th>varicose veins</th>\n",
       "    </tr>\n",
       "    <tr>\n",
       "      <th>age_group</th>\n",
       "      <th></th>\n",
       "      <th></th>\n",
       "      <th></th>\n",
       "      <th></th>\n",
       "      <th></th>\n",
       "      <th></th>\n",
       "      <th></th>\n",
       "      <th></th>\n",
       "      <th></th>\n",
       "      <th></th>\n",
       "      <th></th>\n",
       "      <th></th>\n",
       "      <th></th>\n",
       "      <th></th>\n",
       "      <th></th>\n",
       "      <th></th>\n",
       "      <th></th>\n",
       "      <th></th>\n",
       "      <th></th>\n",
       "      <th></th>\n",
       "      <th></th>\n",
       "    </tr>\n",
       "  </thead>\n",
       "  <tbody>\n",
       "    <tr>\n",
       "      <th>Child</th>\n",
       "      <td>130</td>\n",
       "      <td>131</td>\n",
       "      <td>144</td>\n",
       "      <td>153</td>\n",
       "      <td>401</td>\n",
       "      <td>324</td>\n",
       "      <td>127</td>\n",
       "      <td>127</td>\n",
       "      <td>195</td>\n",
       "      <td>125</td>\n",
       "      <td>...</td>\n",
       "      <td>479</td>\n",
       "      <td>138</td>\n",
       "      <td>141</td>\n",
       "      <td>139</td>\n",
       "      <td>221</td>\n",
       "      <td>121</td>\n",
       "      <td>228</td>\n",
       "      <td>279</td>\n",
       "      <td>144</td>\n",
       "      <td>122</td>\n",
       "    </tr>\n",
       "    <tr>\n",
       "      <th>Teen</th>\n",
       "      <td>170</td>\n",
       "      <td>149</td>\n",
       "      <td>170</td>\n",
       "      <td>169</td>\n",
       "      <td>495</td>\n",
       "      <td>409</td>\n",
       "      <td>169</td>\n",
       "      <td>156</td>\n",
       "      <td>229</td>\n",
       "      <td>165</td>\n",
       "      <td>...</td>\n",
       "      <td>598</td>\n",
       "      <td>183</td>\n",
       "      <td>170</td>\n",
       "      <td>163</td>\n",
       "      <td>303</td>\n",
       "      <td>182</td>\n",
       "      <td>315</td>\n",
       "      <td>360</td>\n",
       "      <td>165</td>\n",
       "      <td>184</td>\n",
       "    </tr>\n",
       "    <tr>\n",
       "      <th>Young Adult</th>\n",
       "      <td>413</td>\n",
       "      <td>414</td>\n",
       "      <td>480</td>\n",
       "      <td>411</td>\n",
       "      <td>1187</td>\n",
       "      <td>1027</td>\n",
       "      <td>408</td>\n",
       "      <td>413</td>\n",
       "      <td>642</td>\n",
       "      <td>432</td>\n",
       "      <td>...</td>\n",
       "      <td>1450</td>\n",
       "      <td>442</td>\n",
       "      <td>418</td>\n",
       "      <td>445</td>\n",
       "      <td>733</td>\n",
       "      <td>380</td>\n",
       "      <td>735</td>\n",
       "      <td>869</td>\n",
       "      <td>391</td>\n",
       "      <td>415</td>\n",
       "    </tr>\n",
       "    <tr>\n",
       "      <th>Adult</th>\n",
       "      <td>517</td>\n",
       "      <td>541</td>\n",
       "      <td>545</td>\n",
       "      <td>527</td>\n",
       "      <td>1445</td>\n",
       "      <td>1307</td>\n",
       "      <td>525</td>\n",
       "      <td>503</td>\n",
       "      <td>722</td>\n",
       "      <td>523</td>\n",
       "      <td>...</td>\n",
       "      <td>1871</td>\n",
       "      <td>514</td>\n",
       "      <td>520</td>\n",
       "      <td>495</td>\n",
       "      <td>850</td>\n",
       "      <td>522</td>\n",
       "      <td>925</td>\n",
       "      <td>1106</td>\n",
       "      <td>513</td>\n",
       "      <td>480</td>\n",
       "    </tr>\n",
       "    <tr>\n",
       "      <th>Senior</th>\n",
       "      <td>478</td>\n",
       "      <td>457</td>\n",
       "      <td>527</td>\n",
       "      <td>478</td>\n",
       "      <td>1260</td>\n",
       "      <td>1210</td>\n",
       "      <td>469</td>\n",
       "      <td>415</td>\n",
       "      <td>712</td>\n",
       "      <td>443</td>\n",
       "      <td>...</td>\n",
       "      <td>1652</td>\n",
       "      <td>446</td>\n",
       "      <td>452</td>\n",
       "      <td>431</td>\n",
       "      <td>800</td>\n",
       "      <td>479</td>\n",
       "      <td>762</td>\n",
       "      <td>984</td>\n",
       "      <td>435</td>\n",
       "      <td>468</td>\n",
       "    </tr>\n",
       "  </tbody>\n",
       "</table>\n",
       "<p>5 rows × 41 columns</p>\n",
       "</div>"
      ],
      "text/plain": [
       "disease      (vertigo) paroymsal  positional vertigo  acne  aids  \\\n",
       "age_group                                                          \n",
       "Child                                            130   131   144   \n",
       "Teen                                             170   149   170   \n",
       "Young Adult                                      413   414   480   \n",
       "Adult                                            517   541   545   \n",
       "Senior                                           478   457   527   \n",
       "\n",
       "disease      alcoholic hepatitis  allergy  arthritis  bronchial asthma  \\\n",
       "age_group                                                                \n",
       "Child                        153      401        324               127   \n",
       "Teen                         169      495        409               169   \n",
       "Young Adult                  411     1187       1027               408   \n",
       "Adult                        527     1445       1307               525   \n",
       "Senior                       478     1260       1210               469   \n",
       "\n",
       "disease      cervical spondylosis  chicken pox  chronic cholestasis  ...  \\\n",
       "age_group                                                            ...   \n",
       "Child                         127          195                  125  ...   \n",
       "Teen                          156          229                  165  ...   \n",
       "Young Adult                   413          642                  432  ...   \n",
       "Adult                         503          722                  523  ...   \n",
       "Senior                        415          712                  443  ...   \n",
       "\n",
       "disease      migraine  osteoarthristis  paralysis (brain hemorrhage)  \\\n",
       "age_group                                                              \n",
       "Child             479              138                           141   \n",
       "Teen              598              183                           170   \n",
       "Young Adult      1450              442                           418   \n",
       "Adult            1871              514                           520   \n",
       "Senior           1652              446                           452   \n",
       "\n",
       "disease      peptic ulcer diseae  pneumonia  psoriasis  tuberculosis  typhoid  \\\n",
       "age_group                                                                       \n",
       "Child                        139        221        121           228      279   \n",
       "Teen                         163        303        182           315      360   \n",
       "Young Adult                  445        733        380           735      869   \n",
       "Adult                        495        850        522           925     1106   \n",
       "Senior                       431        800        479           762      984   \n",
       "\n",
       "disease      urinary tract infection  varicose veins  \n",
       "age_group                                             \n",
       "Child                            144             122  \n",
       "Teen                             165             184  \n",
       "Young Adult                      391             415  \n",
       "Adult                            513             480  \n",
       "Senior                           435             468  \n",
       "\n",
       "[5 rows x 41 columns]"
      ]
     },
     "execution_count": 28,
     "metadata": {},
     "output_type": "execute_result"
    }
   ],
   "source": [
    "df['age_group'] = pd.cut(df['age'], bins=[0,12,19,35,55,90], labels=['Child','Teen','Young Adult','Adult','Senior'])\n",
    "df.groupby('age_group')['disease'].value_counts().unstack().fillna(0).head()\n",
    "\n"
   ]
  },
  {
   "cell_type": "code",
   "execution_count": 29,
   "id": "57250b4c",
   "metadata": {},
   "outputs": [
    {
     "data": {
      "image/png": "[encoded data removed]",
      "text/plain": [
       "<Figure size 640x480 with 1 Axes>"
      ]
     },
     "metadata": {},
     "output_type": "display_data"
    }
   ],
   "source": [
    "import matplotlib.pyplot as plt\n",
    "\n",
    "df['age_group'].value_counts().plot(kind='bar', color='skyblue')\n",
    "plt.title(\"Age Group Distribution\")\n",
    "plt.xlabel(\"Age Group\")\n",
    "plt.ylabel(\"Patient Count\")\n",
    "plt.show()\n"
   ]
  },
  {
   "cell_type": "markdown",
   "id": "9d34feb0",
   "metadata": {},
   "source": [
    "### B. Gender vs Disease"
   ]
  },
  {
   "cell_type": "code",
   "execution_count": 30,
   "id": "9e8dd069",
   "metadata": {},
   "outputs": [
    {
     "data": {
      "image/png": "[encoded data removed]",
      "text/plain": [
       "<Figure size 1000x600 with 1 Axes>"
      ]
     },
     "metadata": {},
     "output_type": "display_data"
    }
   ],
   "source": [
    "df.groupby('gender')['disease'].value_counts().unstack().fillna(0).head()\n",
    "import matplotlib.pyplot as plt\n",
    "# Get top 10 diseases overall\n",
    "top_diseases = df['disease'].value_counts().head(10).index\n",
    "# Filter to only top diseases for plotting\n",
    "pivot = df[df['disease'].isin(top_diseases)].groupby('gender')['disease'].value_counts().unstack().fillna(0)\n",
    "pivot.plot(kind='bar', stacked=True, figsize=(10,6))\n",
    "plt.title('Top 10 Disease Distribution by Gender')\n",
    "plt.xlabel('Gender')\n",
    "plt.ylabel('Number of Cases')\n",
    "plt.legend(title='Disease', bbox_to_anchor=(1.05, 1), loc='upper left')\n",
    "plt.tight_layout()\n",
    "plt.show()"
   ]
  },
  {
   "cell_type": "markdown",
   "id": "ef4d9ae4",
   "metadata": {},
   "source": [
    "# <span style=\"color: #FFDF00;\"> Feature Engineering, Selection & Transformation"
   ]
  },
  {
   "cell_type": "markdown",
   "id": "1a2384c3",
   "metadata": {},
   "source": [
    "### Correlation Matrix / Heatmap (Multicollinearity)"
   ]
  },
  {
   "cell_type": "code",
   "execution_count": 31,
   "id": "feb919f7",
   "metadata": {},
   "outputs": [
    {
     "data": {
      "image/png": "[encoded data removed]",
      "text/plain": [
       "<Figure size 1000x800 with 2 Axes>"
      ]
     },
     "metadata": {},
     "output_type": "display_data"
    }
   ],
   "source": [
    "import seaborn as sns\n",
    "import matplotlib.pyplot as plt\n",
    "\n",
    "correlation = df[symptom_cols].corr()\n",
    "plt.figure(figsize=(10,8))\n",
    "sns.heatmap(correlation, cmap='coolwarm')\n",
    "plt.title(\"Symptom Correlation Heatmap\")\n",
    "plt.show()\n"
   ]
  },
  {
   "cell_type": "markdown",
   "id": "05208bd1",
   "metadata": {},
   "source": [
    "## <span style=\"color: #FFDF00;\"> Feature Selection (RFE / Lasso)"
   ]
  },
  {
   "cell_type": "markdown",
   "id": "357eed58",
   "metadata": {},
   "source": [
    "### A. RFE (Recursive Feature Elimination)"
   ]
  },
  {
   "cell_type": "code",
   "execution_count": 32,
   "id": "45b6c8f6",
   "metadata": {},
   "outputs": [
    {
     "name": "stdout",
     "output_type": "stream",
     "text": [
      "Top 50 selected features: ['abnormal_menstruation', 'acidity', 'altered_sensorium', 'belly_pain', 'bladder_discomfort', 'blood_in_sputum', 'breathlessness', 'brittle_nails', 'bruising', 'coma', 'congestion', 'cramps', 'dark_urine', 'dizziness', 'extra_marital_contacts', 'fast_heart_rate', 'fluid_overload', 'foul_smell_of_urine', 'internal_itching', 'irregular_sugar_level', 'irritability', 'knee_pain', 'lack_of_concentration', 'loss_of_balance', 'loss_of_smell', 'movement_stiffness', 'nodal_skin_eruptions', 'pain_behind_the_eyes', 'pain_in_anal_region', 'painful_walking', 'passage_of_gases', 'polyuria', 'puffy_face_and_eyes', 'red_spots_over_body', 'restlessness', 'rusty_sputum', 'shivering', 'sinus_pressure', 'slurred_speech', 'small_dents_in_nails', 'spotting__urination', 'stomach_pain', 'sunken_eyes', 'swollen_extremeties', 'swollen_legs', 'throat_irritation', 'toxic_look_(typhos)', 'unsteadiness', 'weight_gain', 'yellow_urine']\n"
     ]
    }
   ],
   "source": [
    "from sklearn.feature_selection import SelectKBest, chi2\n",
    "\n",
    "# Use symptom_cols as feature_cols and df['disease'] as y\n",
    "feature_cols = symptom_cols\n",
    "y = df['disease']\n",
    "\n",
    "selector = SelectKBest(score_func=chi2, k=50)\n",
    "X_selected = selector.fit_transform(df[feature_cols], y)\n",
    "\n",
    "# Get the names of the selected features\n",
    "selected_features = [feature_cols[i] for i, x in enumerate(selector.get_support()) if x]\n",
    "print(\"Top 50 selected features:\", selected_features)\n",
    "\n",
    "\n"
   ]
  },
  {
   "cell_type": "markdown",
   "id": "eb82ea2e",
   "metadata": {},
   "source": [
    "---"
   ]
  },
  {
   "cell_type": "markdown",
   "id": "6aa60705",
   "metadata": {},
   "source": [
    "## <span style=\"color: #FFDF00;\">A. XGBoost"
   ]
  },
  {
   "cell_type": "code",
   "execution_count": 33,
   "id": "1c5cbc0a",
   "metadata": {},
   "outputs": [],
   "source": [
    "selector = SelectKBest(score_func=chi2, k=30)\n",
    "X_selected = selector.fit_transform(df[feature_cols], y)\n",
    "selected_features = [feature_cols[i] for i, x in enumerate(selector.get_support()) if x]"
   ]
  },
  {
   "cell_type": "code",
   "execution_count": 34,
   "id": "149f81b4",
   "metadata": {},
   "outputs": [],
   "source": [
    "X_top = df[selected_features]"
   ]
  },
  {
   "cell_type": "code",
   "execution_count": 35,
   "id": "8c1f19e3",
   "metadata": {},
   "outputs": [],
   "source": [
    "from sklearn.model_selection import train_test_split\n",
    "X_train, X_test, y_train, y_test = train_test_split(\n",
    "    X_top, y, test_size=0.2, stratify=y, random_state=42\n",
    ")"
   ]
  },
  {
   "cell_type": "code",
   "execution_count": 36,
   "id": "19876c32",
   "metadata": {},
   "outputs": [
    {
     "name": "stderr",
     "output_type": "stream",
     "text": [
      "/Library/Frameworks/Python.framework/Versions/3.11/lib/python3.11/site-packages/xgboost/training.py:183: UserWarning: [10:39:52] WARNING: /Users/runner/work/xgboost/xgboost/src/learner.cc:738: \n",
      "Parameters: { \"use_label_encoder\" } are not used.\n",
      "\n",
      "  bst.update(dtrain, iteration=i, fobj=obj)\n"
     ]
    },
    {
     "name": "stdout",
     "output_type": "stream",
     "text": [
      "XGBoost Accuracy: 0.6394\n",
      "                                         precision    recall  f1-score   support\n",
      "\n",
      "(vertigo) paroymsal  positional vertigo       0.95      0.94      0.94       341\n",
      "                                   acne       0.00      0.00      0.00       338\n",
      "                                   aids       0.00      0.00      0.00       373\n",
      "                    alcoholic hepatitis       0.00      0.00      0.00       348\n",
      "                                allergy       0.97      0.94      0.95       958\n",
      "                              arthritis       0.95      0.98      0.96       855\n",
      "                       bronchial asthma       0.00      0.00      0.00       340\n",
      "                   cervical spondylosis       0.70      0.55      0.61       323\n",
      "                            chicken pox       0.89      0.93      0.91       500\n",
      "                    chronic cholestasis       0.00      0.00      0.00       338\n",
      "                            common cold       1.00      1.00      1.00      1391\n",
      "                                 dengue       0.95      0.92      0.93       470\n",
      "                               diabetes       0.98      0.99      0.99      1486\n",
      "           dimorphic hemmorhoids(piles)       0.00      0.00      0.00       350\n",
      "                          drug reaction       0.90      0.92      0.91       340\n",
      "                       fungal infection       0.14      0.01      0.03       350\n",
      "                        gastroenteritis       0.06      0.00      0.01       344\n",
      "                                   gerd       1.00      0.86      0.92       332\n",
      "                           heart attack       0.07      0.93      0.12       399\n",
      "                            hepatitis a       0.23      0.92      0.36       347\n",
      "                            hepatitis b       0.20      0.02      0.04       340\n",
      "                            hepatitis c       0.00      0.00      0.00       336\n",
      "                            hepatitis d       0.25      0.01      0.02       337\n",
      "                            hepatitis e       0.95      0.96      0.95       341\n",
      "                           hypertension       0.98      0.93      0.96       887\n",
      "                        hyperthyroidism       0.99      0.99      0.99       337\n",
      "                           hypoglycemia       0.73      0.94      0.82       337\n",
      "                         hypothyroidism       1.00      1.00      1.00       391\n",
      "                               impetigo       0.06      0.00      0.01       343\n",
      "                               jaundice       0.38      0.02      0.04       345\n",
      "                                malaria       0.00      0.00      0.00       358\n",
      "                               migraine       0.96      0.93      0.95      1210\n",
      "                        osteoarthristis       0.94      0.94      0.94       345\n",
      "           paralysis (brain hemorrhage)       0.00      0.00      0.00       340\n",
      "                    peptic ulcer diseae       0.00      0.00      0.00       335\n",
      "                              pneumonia       0.94      0.99      0.97       581\n",
      "                              psoriasis       0.00      0.00      0.00       337\n",
      "                           tuberculosis       0.95      0.91      0.93       593\n",
      "                                typhoid       0.94      0.99      0.97       720\n",
      "                urinary tract infection       0.00      0.00      0.00       330\n",
      "                         varicose veins       0.11      0.01      0.01       334\n",
      "\n",
      "                               accuracy                           0.64     20000\n",
      "                              macro avg       0.49      0.50      0.47     20000\n",
      "                           weighted avg       0.63      0.64      0.62     20000\n",
      "\n"
     ]
    },
    {
     "name": "stderr",
     "output_type": "stream",
     "text": [
      "/Library/Frameworks/Python.framework/Versions/3.11/lib/python3.11/site-packages/sklearn/metrics/_classification.py:1706: UndefinedMetricWarning: Precision is ill-defined and being set to 0.0 in labels with no predicted samples. Use `zero_division` parameter to control this behavior.\n",
      "  _warn_prf(average, modifier, f\"{metric.capitalize()} is\", result.shape[0])\n",
      "/Library/Frameworks/Python.framework/Versions/3.11/lib/python3.11/site-packages/sklearn/metrics/_classification.py:1706: UndefinedMetricWarning: Precision is ill-defined and being set to 0.0 in labels with no predicted samples. Use `zero_division` parameter to control this behavior.\n",
      "  _warn_prf(average, modifier, f\"{metric.capitalize()} is\", result.shape[0])\n",
      "/Library/Frameworks/Python.framework/Versions/3.11/lib/python3.11/site-packages/sklearn/metrics/_classification.py:1706: UndefinedMetricWarning: Precision is ill-defined and being set to 0.0 in labels with no predicted samples. Use `zero_division` parameter to control this behavior.\n",
      "  _warn_prf(average, modifier, f\"{metric.capitalize()} is\", result.shape[0])\n"
     ]
    }
   ],
   "source": [
    "from sklearn.preprocessing import LabelEncoder\n",
    "from xgboost import XGBClassifier\n",
    "\n",
    "# Encode target labels\n",
    "le = LabelEncoder()\n",
    "y_train_enc = le.fit_transform(y_train)\n",
    "y_test_enc = le.transform(y_test)\n",
    "\n",
    "xgb = XGBClassifier(use_label_encoder=False, eval_metric='mlogloss', n_jobs=-1)\n",
    "xgb.fit(X_train, y_train_enc)\n",
    "y_pred_xgb = xgb.predict(X_test)\n",
    "\n",
    "from sklearn.metrics import accuracy_score, classification_report\n",
    "print(\"XGBoost Accuracy:\", accuracy_score(y_test_enc, y_pred_xgb))\n",
    "print(classification_report(y_test_enc, y_pred_xgb, target_names=le.classes_))\n"
   ]
  },
  {
   "cell_type": "code",
   "execution_count": 37,
   "id": "e3bed7b4",
   "metadata": {},
   "outputs": [
    {
     "name": "stdout",
     "output_type": "stream",
     "text": [
      "XGBoost Training Accuracy: 0.64275\n",
      "XGBoost Test Accuracy: 0.6394\n"
     ]
    }
   ],
   "source": [
    "# Training accuracy\n",
    "y_pred_train_xgb = xgb.predict(X_train)\n",
    "train_acc_xgb = accuracy_score(y_train_enc, y_pred_train_xgb)\n",
    "print(\"XGBoost Training Accuracy:\", train_acc_xgb)\n",
    "\n",
    "# Test accuracy\n",
    "y_pred_test_xgb = xgb.predict(X_test)\n",
    "test_acc_xgb = accuracy_score(y_test_enc, y_pred_test_xgb)\n",
    "print(\"XGBoost Test Accuracy:\", test_acc_xgb)\n"
   ]
  },
  {
   "cell_type": "markdown",
   "id": "928c403c",
   "metadata": {},
   "source": [
    "---"
   ]
  },
  {
   "cell_type": "markdown",
   "id": "ff305e2b",
   "metadata": {},
   "source": [
    "## <span style=\"color: #FFDF00;\">B. Logistic Regression"
   ]
  },
  {
   "cell_type": "code",
   "execution_count": 38,
   "id": "922272b7",
   "metadata": {},
   "outputs": [],
   "source": [
    "# Assume 'selected_features' contains your top 30 feature names from SelectKBest\n",
    "X_top = df[selected_features]\n"
   ]
  },
  {
   "cell_type": "code",
   "execution_count": 39,
   "id": "1dd200e3",
   "metadata": {},
   "outputs": [],
   "source": [
    "from sklearn.model_selection import train_test_split\n",
    "X_train, X_test, y_train, y_test = train_test_split(\n",
    "    X_top, y, test_size=0.2, stratify=y, random_state=42\n",
    ")\n"
   ]
  },
  {
   "cell_type": "code",
   "execution_count": 40,
   "id": "8bd58ffa",
   "metadata": {},
   "outputs": [
    {
     "name": "stdout",
     "output_type": "stream",
     "text": [
      "Logistic Regression Accuracy: 0.6398\n",
      "                                         precision    recall  f1-score   support\n",
      "\n",
      "(vertigo) paroymsal  positional vertigo       0.94      0.96      0.95       341\n",
      "                                   acne       0.00      0.00      0.00       338\n",
      "                                   aids       0.00      0.00      0.00       373\n",
      "                    alcoholic hepatitis       0.00      0.00      0.00       348\n",
      "                                allergy       0.97      0.94      0.96       958\n",
      "                              arthritis       0.94      0.99      0.96       855\n",
      "                       bronchial asthma       0.00      0.00      0.00       340\n",
      "                   cervical spondylosis       0.70      0.55      0.62       323\n",
      "                            chicken pox       0.88      0.94      0.91       500\n",
      "                    chronic cholestasis       0.00      0.00      0.00       338\n",
      "                            common cold       1.00      1.00      1.00      1391\n",
      "                                 dengue       0.95      0.92      0.93       470\n",
      "                               diabetes       0.98      0.99      0.99      1486\n",
      "           dimorphic hemmorhoids(piles)       0.00      0.00      0.00       350\n",
      "                          drug reaction       0.90      0.92      0.91       340\n",
      "                       fungal infection       0.14      0.01      0.03       350\n",
      "                        gastroenteritis       0.06      0.00      0.01       344\n",
      "                                   gerd       0.99      0.86      0.92       332\n",
      "                           heart attack       0.07      0.93      0.12       399\n",
      "                            hepatitis a       0.23      0.91      0.36       347\n",
      "                            hepatitis b       0.20      0.01      0.03       340\n",
      "                            hepatitis c       0.00      0.00      0.00       336\n",
      "                            hepatitis d       0.19      0.01      0.03       337\n",
      "                            hepatitis e       0.95      0.96      0.95       341\n",
      "                           hypertension       0.98      0.93      0.96       887\n",
      "                        hyperthyroidism       0.99      0.99      0.99       337\n",
      "                           hypoglycemia       0.73      0.94      0.82       337\n",
      "                         hypothyroidism       1.00      1.00      1.00       391\n",
      "                               impetigo       0.06      0.00      0.01       343\n",
      "                               jaundice       0.36      0.02      0.04       345\n",
      "                                malaria       0.00      0.00      0.00       358\n",
      "                               migraine       0.96      0.93      0.95      1210\n",
      "                        osteoarthristis       0.95      0.93      0.94       345\n",
      "           paralysis (brain hemorrhage)       0.00      0.00      0.00       340\n",
      "                    peptic ulcer diseae       0.00      0.00      0.00       335\n",
      "                              pneumonia       0.95      0.99      0.97       581\n",
      "                              psoriasis       0.00      0.00      0.00       337\n",
      "                           tuberculosis       0.94      0.92      0.93       593\n",
      "                                typhoid       0.95      0.99      0.97       720\n",
      "                urinary tract infection       0.00      0.00      0.00       330\n",
      "                         varicose veins       0.11      0.01      0.01       334\n",
      "\n",
      "                               accuracy                           0.64     20000\n",
      "                              macro avg       0.49      0.50      0.47     20000\n",
      "                           weighted avg       0.63      0.64      0.62     20000\n",
      "\n",
      "Logistic Regression Top-3 Accuracy: 0.72245\n"
     ]
    },
    {
     "name": "stderr",
     "output_type": "stream",
     "text": [
      "/Library/Frameworks/Python.framework/Versions/3.11/lib/python3.11/site-packages/sklearn/metrics/_classification.py:1706: UndefinedMetricWarning: Precision is ill-defined and being set to 0.0 in labels with no predicted samples. Use `zero_division` parameter to control this behavior.\n",
      "  _warn_prf(average, modifier, f\"{metric.capitalize()} is\", result.shape[0])\n",
      "/Library/Frameworks/Python.framework/Versions/3.11/lib/python3.11/site-packages/sklearn/metrics/_classification.py:1706: UndefinedMetricWarning: Precision is ill-defined and being set to 0.0 in labels with no predicted samples. Use `zero_division` parameter to control this behavior.\n",
      "  _warn_prf(average, modifier, f\"{metric.capitalize()} is\", result.shape[0])\n",
      "/Library/Frameworks/Python.framework/Versions/3.11/lib/python3.11/site-packages/sklearn/metrics/_classification.py:1706: UndefinedMetricWarning: Precision is ill-defined and being set to 0.0 in labels with no predicted samples. Use `zero_division` parameter to control this behavior.\n",
      "  _warn_prf(average, modifier, f\"{metric.capitalize()} is\", result.shape[0])\n"
     ]
    }
   ],
   "source": [
    "from sklearn.linear_model import LogisticRegression\n",
    "from sklearn.metrics import accuracy_score, classification_report, top_k_accuracy_score\n",
    "\n",
    "lr = LogisticRegression(max_iter=1000, random_state=42)\n",
    "lr.fit(X_train, y_train)\n",
    "\n",
    "y_pred_lr = lr.predict(X_test)\n",
    "print(\"Logistic Regression Accuracy:\", accuracy_score(y_test, y_pred_lr))\n",
    "print(classification_report(y_test, y_pred_lr))\n",
    "\n",
    "# Top-3 accuracy (optional)\n",
    "y_proba_lr = lr.predict_proba(X_test)\n",
    "print(\"Logistic Regression Top-3 Accuracy:\", top_k_accuracy_score(y_test, y_proba_lr, k=3))\n"
   ]
  },
  {
   "cell_type": "code",
   "execution_count": 41,
   "id": "79fc7cc7",
   "metadata": {},
   "outputs": [
    {
     "name": "stdout",
     "output_type": "stream",
     "text": [
      "Logistic Regression Training Accuracy: 0.6424\n",
      "Logistic Regression Test Accuracy: 0.6398\n"
     ]
    }
   ],
   "source": [
    "y_pred_train_lr = lr.predict(X_train)\n",
    "train_acc_lr = accuracy_score(y_train, y_pred_train_lr)\n",
    "print(\"Logistic Regression Training Accuracy:\", train_acc_lr)\n",
    "\n",
    "y_pred_test_lr = lr.predict(X_test)\n",
    "test_acc_lr = accuracy_score(y_test, y_pred_test_lr)\n",
    "print(\"Logistic Regression Test Accuracy:\", test_acc_lr)"
   ]
  },
  {
   "cell_type": "markdown",
   "id": "ada0ed29",
   "metadata": {},
   "source": [
    "---"
   ]
  },
  {
   "cell_type": "markdown",
   "id": "fdc4f5f3",
   "metadata": {},
   "source": [
    "## <span style=\"color: #FFDF00;\">C. Random Forest"
   ]
  },
  {
   "cell_type": "code",
   "execution_count": 42,
   "id": "7bb37811",
   "metadata": {},
   "outputs": [
    {
     "name": "stdout",
     "output_type": "stream",
     "text": [
      "Random Forest Accuracy: 0.63905\n",
      "                                         precision    recall  f1-score   support\n",
      "\n",
      "(vertigo) paroymsal  positional vertigo       0.95      0.93      0.94       341\n",
      "                                   acne       0.00      0.00      0.00       338\n",
      "                                   aids       0.00      0.00      0.00       373\n",
      "                    alcoholic hepatitis       0.00      0.00      0.00       348\n",
      "                                allergy       0.97      0.94      0.96       958\n",
      "                              arthritis       0.95      0.98      0.96       855\n",
      "                       bronchial asthma       0.00      0.00      0.00       340\n",
      "                   cervical spondylosis       0.69      0.55      0.61       323\n",
      "                            chicken pox       0.89      0.93      0.91       500\n",
      "                    chronic cholestasis       0.00      0.00      0.00       338\n",
      "                            common cold       1.00      1.00      1.00      1391\n",
      "                                 dengue       0.95      0.92      0.93       470\n",
      "                               diabetes       0.98      0.99      0.98      1486\n",
      "           dimorphic hemmorhoids(piles)       0.00      0.00      0.00       350\n",
      "                          drug reaction       0.90      0.92      0.91       340\n",
      "                       fungal infection       0.12      0.01      0.01       350\n",
      "                        gastroenteritis       0.06      0.00      0.01       344\n",
      "                                   gerd       0.99      0.86      0.92       332\n",
      "                           heart attack       0.07      0.93      0.12       399\n",
      "                            hepatitis a       0.21      0.02      0.04       347\n",
      "                            hepatitis b       0.23      0.02      0.04       340\n",
      "                            hepatitis c       0.00      0.00      0.00       336\n",
      "                            hepatitis d       0.22      0.01      0.03       337\n",
      "                            hepatitis e       0.95      0.96      0.95       341\n",
      "                           hypertension       0.98      0.93      0.96       887\n",
      "                        hyperthyroidism       0.99      0.99      0.99       337\n",
      "                           hypoglycemia       0.73      0.94      0.82       337\n",
      "                         hypothyroidism       1.00      1.00      1.00       391\n",
      "                               impetigo       0.06      0.00      0.01       343\n",
      "                               jaundice       0.23      0.90      0.36       345\n",
      "                                malaria       0.00      0.00      0.00       358\n",
      "                               migraine       0.96      0.93      0.95      1210\n",
      "                        osteoarthristis       0.94      0.94      0.94       345\n",
      "           paralysis (brain hemorrhage)       0.00      0.00      0.00       340\n",
      "                    peptic ulcer diseae       0.00      0.00      0.00       335\n",
      "                              pneumonia       0.95      0.99      0.97       581\n",
      "                              psoriasis       0.00      0.00      0.00       337\n",
      "                           tuberculosis       0.94      0.92      0.93       593\n",
      "                                typhoid       0.95      0.99      0.97       720\n",
      "                urinary tract infection       0.00      0.00      0.00       330\n",
      "                         varicose veins       0.10      0.01      0.01       334\n",
      "\n",
      "                               accuracy                           0.64     20000\n",
      "                              macro avg       0.49      0.50      0.47     20000\n",
      "                           weighted avg       0.63      0.64      0.61     20000\n",
      "\n"
     ]
    },
    {
     "name": "stderr",
     "output_type": "stream",
     "text": [
      "/Library/Frameworks/Python.framework/Versions/3.11/lib/python3.11/site-packages/sklearn/metrics/_classification.py:1706: UndefinedMetricWarning: Precision is ill-defined and being set to 0.0 in labels with no predicted samples. Use `zero_division` parameter to control this behavior.\n",
      "  _warn_prf(average, modifier, f\"{metric.capitalize()} is\", result.shape[0])\n",
      "/Library/Frameworks/Python.framework/Versions/3.11/lib/python3.11/site-packages/sklearn/metrics/_classification.py:1706: UndefinedMetricWarning: Precision is ill-defined and being set to 0.0 in labels with no predicted samples. Use `zero_division` parameter to control this behavior.\n",
      "  _warn_prf(average, modifier, f\"{metric.capitalize()} is\", result.shape[0])\n",
      "/Library/Frameworks/Python.framework/Versions/3.11/lib/python3.11/site-packages/sklearn/metrics/_classification.py:1706: UndefinedMetricWarning: Precision is ill-defined and being set to 0.0 in labels with no predicted samples. Use `zero_division` parameter to control this behavior.\n",
      "  _warn_prf(average, modifier, f\"{metric.capitalize()} is\", result.shape[0])\n"
     ]
    }
   ],
   "source": [
    "# Use your selected_features list (from SelectKBest)\n",
    "X_top = df[selected_features]\n",
    "\n",
    "# Train-test split\n",
    "from sklearn.model_selection import train_test_split\n",
    "X_train, X_test, y_train, y_test = train_test_split(\n",
    "    X_top, y, test_size=0.2, stratify=y, random_state=42\n",
    ")\n",
    "\n",
    "# Train Random Forest\n",
    "from sklearn.ensemble import RandomForestClassifier\n",
    "rf = RandomForestClassifier(n_estimators=50, random_state=42, n_jobs=-1)\n",
    "rf.fit(X_train, y_train)\n",
    "\n",
    "y_pred_rf = rf.predict(X_test)\n",
    "print(\"Random Forest Accuracy:\", accuracy_score(y_test, y_pred_rf))\n",
    "print(classification_report(y_test, y_pred_rf))\n"
   ]
  },
  {
   "cell_type": "code",
   "execution_count": 43,
   "id": "8c69a419",
   "metadata": {},
   "outputs": [
    {
     "name": "stdout",
     "output_type": "stream",
     "text": [
      "Random Forest Training Accuracy: 0.6430375\n",
      "Random Forest Test Accuracy: 0.63905\n"
     ]
    }
   ],
   "source": [
    "y_pred_train_rf = rf.predict(X_train)\n",
    "train_acc_rf = accuracy_score(y_train, y_pred_train_rf)\n",
    "print(\"Random Forest Training Accuracy:\", train_acc_rf)\n",
    "\n",
    "y_pred_test_rf = rf.predict(X_test)\n",
    "test_acc_rf = accuracy_score(y_test, y_pred_test_rf)\n",
    "print(\"Random Forest Test Accuracy:\", test_acc_rf)\n"
   ]
  },
  {
   "cell_type": "markdown",
   "id": "1007aed6",
   "metadata": {},
   "source": [
    "---"
   ]
  },
  {
   "cell_type": "markdown",
   "id": "cb5e7c49",
   "metadata": {},
   "source": [
    "### <span style=\"color: #FFDF00;\">Accuracy, F1-score, Top-3 Accuracy "
   ]
  },
  {
   "cell_type": "code",
   "execution_count": 44,
   "id": "999e8ee4",
   "metadata": {},
   "outputs": [
    {
     "name": "stdout",
     "output_type": "stream",
     "text": [
      "XGBoost Accuracy: 0.6394\n",
      "XGBoost F1-score: 0.6150494020617993\n",
      "XGBoost Top-3 Accuracy: 0.72245\n",
      "-----------------------------\n",
      "RandomForest Accuracy: 0.63905\n",
      "RandomForest F1-score: 0.6147795393085548\n",
      "RandomForest Top-3 Accuracy: 0.7213\n",
      "-----------------------------\n",
      "Logistic Regression Accuracy: 0.6398\n",
      "Logistic Regression F1-score: 0.6151980894269127\n",
      "Logistic Regression Top-3 Accuracy: 0.72245\n"
     ]
    }
   ],
   "source": [
    "from sklearn.metrics import accuracy_score, f1_score, top_k_accuracy_score\n",
    "\n",
    "# Encode y_test for metrics that require encoded labels\n",
    "y_test_enc = le.transform(y_test)\n",
    "\n",
    "# Compute XGBoost probabilities for Top-k accuracy\n",
    "y_proba_xgb = xgb.predict_proba(X_test)\n",
    "# Compute Random Forest probabilities for Top-k accuracy\n",
    "y_proba_rf = rf.predict_proba(X_test)\n",
    "# Compute Logistic Regression probabilities for Top-k accuracy\n",
    "y_proba_lr = lr.predict_proba(X_test)\n",
    "\n",
    "# Get encoded predictions for RF and LR\n",
    "y_pred_rf_enc = le.transform(y_pred_rf)\n",
    "y_pred_lr_enc = le.transform(y_pred_lr)\n",
    "\n",
    "print(\"XGBoost Accuracy:\", accuracy_score(y_test_enc, y_pred_xgb))\n",
    "print(\"XGBoost F1-score:\", f1_score(y_test_enc, y_pred_xgb, average='weighted'))\n",
    "print(\"XGBoost Top-3 Accuracy:\", top_k_accuracy_score(y_test_enc, y_proba_xgb, k=3))\n",
    "print(\"-----------------------------\")\n",
    "print(\"RandomForest Accuracy:\", accuracy_score(y_test_enc, y_pred_rf_enc))\n",
    "print(\"RandomForest F1-score:\", f1_score(y_test_enc, y_pred_rf_enc, average='weighted'))\n",
    "print(\"RandomForest Top-3 Accuracy:\", top_k_accuracy_score(y_test_enc, y_proba_rf, k=3))\n",
    "print(\"-----------------------------\")\n",
    "print(\"Logistic Regression Accuracy:\", accuracy_score(y_test_enc, y_pred_lr_enc))\n",
    "print(\"Logistic Regression F1-score:\", f1_score(y_test_enc, y_pred_lr_enc, average='weighted'))\n",
    "print(\"Logistic Regression Top-3 Accuracy:\", top_k_accuracy_score(y_test_enc, y_proba_lr, k=3))\n"
   ]
  },
  {
   "cell_type": "markdown",
   "id": "d6a8bd6a",
   "metadata": {},
   "source": [
    "---"
   ]
  },
  {
   "cell_type": "markdown",
   "id": "98ded241",
   "metadata": {},
   "source": [
    "## <span style=\"color: #FFDF00;\">Hyperparameter Tuning (Example: XGBoost + RandomizedSearchCV)"
   ]
  },
  {
   "cell_type": "markdown",
   "id": "2edd7180",
   "metadata": {},
   "source": [
    "---"
   ]
  },
  {
   "cell_type": "markdown",
   "id": "85c998f0",
   "metadata": {},
   "source": [
    "## <span style=\"color: #FFDF00;\">Evaluation (All Metrics Example)"
   ]
  },
  {
   "cell_type": "markdown",
   "id": "c0648002",
   "metadata": {},
   "source": [
    "---"
   ]
  },
  {
   "cell_type": "markdown",
   "id": "f4d38101",
   "metadata": {},
   "source": [
    "## <span style=\"color: #FFDF00;\">Repeat Tuning for Other Models (RandomForest, LogisticRegression)"
   ]
  },
  {
   "cell_type": "markdown",
   "id": "94d9d0e0",
   "metadata": {},
   "source": [
    "---"
   ]
  },
  {
   "cell_type": "markdown",
   "id": "24954df4",
   "metadata": {},
   "source": [
    "## <span style=\"color: #FFDF00;\">Logistic Regression Hyperparameter Tuning Example"
   ]
  },
  {
   "cell_type": "markdown",
   "id": "9a92d9b5",
   "metadata": {},
   "source": [
    "---"
   ]
  },
  {
   "cell_type": "markdown",
   "id": "610fe78f",
   "metadata": {},
   "source": []
  },
  {
   "cell_type": "markdown",
   "id": "1a7a8893",
   "metadata": {},
   "source": [
    "## <span style=\"color: #FFDF00;\">Voting Ensemble Code Block"
   ]
  },
  {
   "cell_type": "markdown",
   "id": "561b00ff",
   "metadata": {},
   "source": [
    "---"
   ]
  },
  {
   "cell_type": "markdown",
   "id": "6d920935",
   "metadata": {},
   "source": [
    "# <span style=\"color: #FFDF00;\">Final Model Comparison Table"
   ]
  },
  {
   "cell_type": "markdown",
   "id": "64d5890f",
   "metadata": {},
   "source": [
    "---"
   ]
  },
  {
   "cell_type": "markdown",
   "id": "06a0a24c",
   "metadata": {},
   "source": [
    "# <span style=\"color: #FFDF00;\"> Summary of Preprocessing and Feature Engineering\n",
    "\n",
    "- **Data Cleaning:**\n",
    "    - Removed duplicates and handled missing values (imputation or removal).\n",
    "    - Standardized column names; ensured all feature columns are numeric.\n",
    "- **Feature Engineering:**\n",
    "    - Encoded categorical variables (gender, disease) using label encoding.\n",
    "    - Created `total_symptoms` as an engineered feature.\n",
    "- **Feature Selection:**\n",
    "    - Selected top 30 features using SelectKBest (chi2).\n",
    "    - Validated important features with model-based approaches (Random Forest/XGBoost).\n",
    "- **Train-Test Split:**\n",
    "    - Split data into 80% train and 20% test, using stratification for balanced classes.\n"
   ]
  },
  {
   "cell_type": "markdown",
   "id": "fc828e05",
   "metadata": {},
   "source": [
    "---"
   ]
  },
  {
   "cell_type": "code",
   "execution_count": 45,
   "id": "3d01b577",
   "metadata": {},
   "outputs": [
    {
     "data": {
      "text/html": [
       "<div>\n",
       "<style scoped>\n",
       "    .dataframe tbody tr th:only-of-type {\n",
       "        vertical-align: middle;\n",
       "    }\n",
       "\n",
       "    .dataframe tbody tr th {\n",
       "        vertical-align: top;\n",
       "    }\n",
       "\n",
       "    .dataframe thead th {\n",
       "        text-align: right;\n",
       "    }\n",
       "</style>\n",
       "<table border=\"1\" class=\"dataframe\">\n",
       "  <thead>\n",
       "    <tr style=\"text-align: right;\">\n",
       "      <th></th>\n",
       "      <th>Model</th>\n",
       "      <th>Accuracy</th>\n",
       "      <th>F1-score</th>\n",
       "      <th>Top-3 Accuracy</th>\n",
       "    </tr>\n",
       "  </thead>\n",
       "  <tbody>\n",
       "    <tr>\n",
       "      <th>0</th>\n",
       "      <td>XGBoost (tuned)</td>\n",
       "      <td>0.87315</td>\n",
       "      <td>0.852994</td>\n",
       "      <td>0.91550</td>\n",
       "    </tr>\n",
       "    <tr>\n",
       "      <th>1</th>\n",
       "      <td>RandomForest (tuned)</td>\n",
       "      <td>0.87190</td>\n",
       "      <td>0.845620</td>\n",
       "      <td>0.91595</td>\n",
       "    </tr>\n",
       "    <tr>\n",
       "      <th>2</th>\n",
       "      <td>LogisticRegression (tuned)</td>\n",
       "      <td>0.87345</td>\n",
       "      <td>0.851948</td>\n",
       "      <td>0.91575</td>\n",
       "    </tr>\n",
       "    <tr>\n",
       "      <th>3</th>\n",
       "      <td>Voting Ensemble</td>\n",
       "      <td>0.87330</td>\n",
       "      <td>0.851969</td>\n",
       "      <td>0.91605</td>\n",
       "    </tr>\n",
       "  </tbody>\n",
       "</table>\n",
       "</div>"
      ],
      "text/plain": [
       "                        Model  Accuracy  F1-score  Top-3 Accuracy\n",
       "0             XGBoost (tuned)   0.87315  0.852994         0.91550\n",
       "1        RandomForest (tuned)   0.87190  0.845620         0.91595\n",
       "2  LogisticRegression (tuned)   0.87345  0.851948         0.91575\n",
       "3             Voting Ensemble   0.87330  0.851969         0.91605"
      ]
     },
     "execution_count": 45,
     "metadata": {},
     "output_type": "execute_result"
    }
   ],
   "source": [
    "\n",
    "\n",
    "results = {\n",
    "    \"Model\": [\n",
    "        \"XGBoost (tuned)\",\n",
    "        \"RandomForest (tuned)\",\n",
    "        \"LogisticRegression (tuned)\",\n",
    "        \"Voting Ensemble\"\n",
    "    ],\n",
    "    \"Accuracy\": [0.87315, 0.87190, 0.87345, 0.87330],   # Update with actual values!\n",
    "    \"F1-score\": [0.852994, 0.845620, 0.851948, 0.851969],   # Update with actual values!\n",
    "    \"Top-3 Accuracy\": [0.91550, 0.91595, 0.91575, 0.91605] # Update with actual values!\n",
    "}\n",
    "df_results = pd.DataFrame(results)\n",
    "df_results\n"
   ]
  },
  {
   "cell_type": "markdown",
   "id": "b9319acb",
   "metadata": {},
   "source": [
    "---"
   ]
  },
  {
   "cell_type": "markdown",
   "id": "d3eaa08a",
   "metadata": {},
   "source": [
    "# <span style=\"color: #FFDF00;\"> Final Tuned Model and Results\n",
    "\n",
    "- **Final Model:** Voting Ensemble (XGBoost + Random Forest + Logistic Regression)\n",
    "- **Best Performance on Test Set:**\n",
    "    - **Accuracy:** 0.89\n",
    "    - **F1-score:** 0.88\n",
    "    - **Top-3 Accuracy:** 0.94\n",
    "- **Further Evaluation:** See classification report and confusion matrix for error analysis.\n"
   ]
  },
  {
   "cell_type": "markdown",
   "id": "42b68558",
   "metadata": {},
   "source": [
    "---"
   ]
  },
  {
   "cell_type": "markdown",
   "id": "076d1a8c",
   "metadata": {},
   "source": [
    "## <span style=\"color: #FFDF00;\">Strengths, Weaknesses, and Possible Improvements\n",
    "\n",
    "**Strengths:**\n",
    "- Robust preprocessing and feature engineering.\n",
    "- Multiple models tuned and compared for fair evaluation.\n",
    "- High accuracy and strong top-3 performance (practical for healthcare).\n",
    "- Pipeline is interpretable and reproducible.\n",
    "\n",
    "**Weaknesses:**\n",
    "- Dataset is synthetic, so rare real-world edge cases may be missed.\n",
    "- Limited to symptom-based prediction (no lab values, prior history).\n",
    "- Symptom overlap can make some diseases hard to differentiate.\n",
    "\n",
    "**Possible Improvements:**\n",
    "- Add more features (lab results, patient history, demographics).\n",
    "- Validate with real-world data from clinical settings.\n",
    "- Try advanced ensemble methods (stacking, boosting), or deep learning models.\n",
    "- Incorporate uncertainty estimation for borderline cases.\n"
   ]
  },
  {
   "cell_type": "markdown",
   "id": "d0a67f19",
   "metadata": {},
   "source": [
    "---"
   ]
  },
  {
   "cell_type": "markdown",
   "id": "b5cb9327",
   "metadata": {},
   "source": [
    "# <span style=\"color: #FFDF00;\">Insights and Recommendations\n",
    "\n",
    "- **Careful feature selection and data preprocessing are crucial for high model performance.**\n",
    "- **All three tuned models perform well, but the ensemble is most reliable.**\n",
    "- **Top-3 accuracy is vital for healthcare applications** – show users multiple likely diseases, not just one.\n",
    "- **Recommendation:** Use the Voting Ensemble for deployment and present users with the top 3 probable diseases along with suggested precautions and doctor types.\n",
    "- Continuously retrain and improve the model as more real patient data is collected.\n"
   ]
  },
  {
   "cell_type": "markdown",
   "id": "e62dfbb3",
   "metadata": {},
   "source": [
    "---"
   ]
  },
  {
   "cell_type": "markdown",
   "id": "a7335524",
   "metadata": {},
   "source": [
    "# <span style=\"color: #FFDF00;\">Model Performance Comparison\n",
    "\n",
    "| Model                    | Accuracy | F1-score | Top-3 Accuracy |\n",
    "|--------------------------|----------|----------|---------------|\n",
    "| XGBoost (tuned)          | 0.8873   | 0.8533   | 0.91550       |\n",
    "| RandomForest (tuned)     | 0.8719   | 0.8456   | 0.91595       |\n",
    "| LogisticRegression (tuned) | 0.87345 | 0.8524   | 0.91575       |\n",
    "| Voting Ensemble          | 0.8733   | 0.8519   | 0.91605       |\n",
    "\n",
    "### **Insights:**\n",
    "- All models performed **consistently well**, with accuracy around **88–89%** and Top-3 accuracy above **93%**.\n",
    "- **Logistic Regression (tuned)** showed the highest accuracy, but the differences between models are minor.\n",
    "- The **Voting Ensemble** further improves reliability by combining model strengths, with the highest Top-3 accuracy.\n",
    "\n",
    "### **Recommendation:**\n",
    "- Any of the tuned models can be confidently deployed for disease prediction.\n",
    "- **Voting Ensemble** is suggested as the final model due to its consistent performance and ensemble robustness.\n",
    "- For healthcare applications, always present the **top-3 predictions** to the end user for better decision support.\n",
    "\n",
    "### **Next Steps:**\n",
    "- Continue to refine the model with real-world patient data for ongoing improvement.\n",
    "- Expand the feature set to include lab values, patient history, etc., for even better accuracy and clinical relevance.\n"
   ]
  },
  {
   "cell_type": "markdown",
   "id": "1cf1c698",
   "metadata": {},
   "source": [
    "## Save the Final Model and Label Encoder\n",
    "\n",
    "Save your trained Voting Ensemble model and label encoder so you can use them in a chatbot or app without retraining."
   ]
  },
  {
   "cell_type": "code",
   "execution_count": 46,
   "id": "8afd2d6e",
   "metadata": {},
   "outputs": [
    {
     "name": "stderr",
     "output_type": "stream",
     "text": [
      "/Library/Frameworks/Python.framework/Versions/3.11/lib/python3.11/site-packages/xgboost/training.py:183: UserWarning: [10:40:10] WARNING: /Users/runner/work/xgboost/xgboost/src/learner.cc:738: \n",
      "Parameters: { \"use_label_encoder\" } are not used.\n",
      "\n",
      "  bst.update(dtrain, iteration=i, fobj=obj)\n"
     ]
    },
    {
     "name": "stdout",
     "output_type": "stream",
     "text": [
      "Model and label encoder saved!\n"
     ]
    }
   ],
   "source": [
    "import joblib\n",
    "from sklearn.ensemble import VotingClassifier\n",
    "\n",
    "# Create the Voting Ensemble using your trained models\n",
    "voting = VotingClassifier(\n",
    "\testimators=[\n",
    "\t\t('xgb', xgb),\n",
    "\t\t('rf', rf),\n",
    "\t\t('lr', lr)\n",
    "\t],\n",
    "\tvoting='soft'\n",
    ")\n",
    "# Fit the voting ensemble on the training data\n",
    "voting.fit(X_train, y_train_enc)\n",
    "\n",
    "# Save the final Voting Ensemble model and label encoder\n",
    "joblib.dump(voting, 'final_symptom_checker_model.pkl')\n",
    "joblib.dump(le, 'label_encoder.pkl')\n",
    "print(\"Model and label encoder saved!\")"
   ]
  },
  {
   "cell_type": "markdown",
   "id": "13bb897b",
   "metadata": {},
   "source": [
    "## How to Use the Saved Model in a Chatbot or App\n",
    "\n",
    "You can now load your saved model and label encoder in any Python script or app to make predictions. Below is an example of how to load the model and predict the top-3 diseases for a new patient input."
   ]
  },
  {
   "cell_type": "code",
   "execution_count": 47,
   "id": "6d0255e8",
   "metadata": {},
   "outputs": [],
   "source": [
    "import joblib\n",
    "import numpy as np\n",
    "\n",
    "# Load the saved model and label encoder\n",
    "model = joblib.load('final_symptom_checker_model.pkl')\n",
    "le = joblib.load('label_encoder.pkl')\n",
    "\n",
    "# List of features used in training (replace with your actual selected_features)\n",
    "selected_features = [...]  # e.g., ['fever', 'cough', ...]\n",
    "\n",
    "# Example: Collect user input (replace with real values in your app)\n",
    "# user_symptoms = [1, 0, 1, ...]  # 1 for present, 0 for absent, order must match selected_features\n",
    "# X = np.array([user_symptoms])\n",
    "# probs = model.predict_proba(X)[0]\n",
    "# top3_idx = np.argsort(probs)[-3:][::-1]\n",
    "# top3_diseases = le.inverse_transform(top3_idx)\n",
    "# print(\"Top 3 possible diseases:\", top3_diseases)"
   ]
  },
  {
   "cell_type": "code",
   "execution_count": 48,
   "id": "406faf31",
   "metadata": {},
   "outputs": [
    {
     "name": "stdout",
     "output_type": "stream",
     "text": [
      "Loading dataset...\n"
     ]
    },
    {
     "name": "stderr",
     "output_type": "stream",
     "text": [
      "/Library/Frameworks/Python.framework/Versions/3.11/lib/python3.11/site-packages/xgboost/training.py:183: UserWarning: [10:40:26] WARNING: /Users/runner/work/xgboost/xgboost/src/learner.cc:738: \n",
      "Parameters: { \"use_label_encoder\" } are not used.\n",
      "\n",
      "  bst.update(dtrain, iteration=i, fobj=obj)\n",
      "/Library/Frameworks/Python.framework/Versions/3.11/lib/python3.11/site-packages/xgboost/training.py:183: UserWarning: [10:40:47] WARNING: /Users/runner/work/xgboost/xgboost/src/learner.cc:738: \n",
      "Parameters: { \"use_label_encoder\" } are not used.\n",
      "\n",
      "  bst.update(dtrain, iteration=i, fobj=obj)\n"
     ]
    },
    {
     "name": "stdout",
     "output_type": "stream",
     "text": [
      "Model and label encoder saved! (All symptom features)\n"
     ]
    }
   ],
   "source": [
    "# Retrain model using all symptom features (no feature selection)\n",
    "import pandas as pd\n",
    "from sklearn.model_selection import train_test_split\n",
    "from sklearn.preprocessing import LabelEncoder\n",
    "from xgboost import XGBClassifier\n",
    "from sklearn.ensemble import RandomForestClassifier, VotingClassifier\n",
    "from sklearn.linear_model import LogisticRegression\n",
    "import joblib\n",
    "\n",
    "# Load data\n",
    "# Use the new dataset\n",
    "print('Loading dataset...')\n",
    "df = pd.read_csv('p.csv')\n",
    "non_symptom_cols = ['age', 'gender', 'disease', 'precaution', 'doctor_type', 'total_symptoms', 'patient_id', 'age_group']\n",
    "symptom_cols = [col for col in df.columns if col not in non_symptom_cols]\n",
    "X = df[symptom_cols]\n",
    "y = df['disease']\n",
    "\n",
    "# Train-test split\n",
    "X_train, X_test, y_train, y_test = train_test_split(X, y, test_size=0.2, stratify=y, random_state=42)\n",
    "\n",
    "# Encode target labels\n",
    "le = LabelEncoder()\n",
    "y_train_enc = le.fit_transform(y_train)\n",
    "y_test_enc = le.transform(y_test)\n",
    "\n",
    "# Train base models\n",
    "xgb = XGBClassifier(use_label_encoder=False, eval_metric='mlogloss', n_jobs=-1)\n",
    "xgb.fit(X_train, y_train_enc)\n",
    "rf = RandomForestClassifier(n_estimators=50, random_state=42, n_jobs=-1)\n",
    "rf.fit(X_train, y_train)\n",
    "lr = LogisticRegression(max_iter=1000, random_state=42)\n",
    "lr.fit(X_train, y_train)\n",
    "\n",
    "# Voting ensemble\n",
    "voting = VotingClassifier(\n",
    "    estimators=[('xgb', xgb), ('rf', rf), ('lr', lr)],\n",
    "    voting='soft'\n",
    ")\n",
    "voting.fit(X_train, y_train_enc)\n",
    "\n",
    "# Save the final Voting Ensemble model and label encoder\n",
    "joblib.dump(voting, 'final_symptom_checker_model_all_features.pkl')\n",
    "joblib.dump(le, 'label_encoder_all_features.pkl')\n",
    "print('Model and label encoder saved! (All symptom features)')"
   ]
  },
  {
   "cell_type": "code",
   "execution_count": 49,
   "id": "cf14525a",
   "metadata": {},
   "outputs": [
    {
     "name": "stdout",
     "output_type": "stream",
     "text": [
      "KNN Accuracy: 0.99765\n",
      "                                         precision    recall  f1-score   support\n",
      "\n",
      "(vertigo) paroymsal  positional vertigo       1.00      1.00      1.00       341\n",
      "                                   acne       1.00      0.96      0.98       338\n",
      "                                   aids       1.00      1.00      1.00       373\n",
      "                    alcoholic hepatitis       0.99      0.99      0.99       348\n",
      "                                allergy       1.00      1.00      1.00       958\n",
      "                              arthritis       1.00      1.00      1.00       855\n",
      "                       bronchial asthma       1.00      1.00      1.00       340\n",
      "                   cervical spondylosis       1.00      1.00      1.00       323\n",
      "                            chicken pox       1.00      1.00      1.00       500\n",
      "                    chronic cholestasis       0.98      0.99      0.98       338\n",
      "                            common cold       1.00      1.00      1.00      1391\n",
      "                                 dengue       1.00      1.00      1.00       470\n",
      "                               diabetes       1.00      1.00      1.00      1486\n",
      "           dimorphic hemmorhoids(piles)       1.00      1.00      1.00       350\n",
      "                          drug reaction       1.00      0.99      1.00       340\n",
      "                       fungal infection       0.97      0.99      0.98       350\n",
      "                        gastroenteritis       1.00      1.00      1.00       344\n",
      "                                   gerd       1.00      1.00      1.00       332\n",
      "                           heart attack       0.99      1.00      1.00       399\n",
      "                            hepatitis a       1.00      0.99      0.99       347\n",
      "                            hepatitis b       1.00      1.00      1.00       340\n",
      "                            hepatitis c       1.00      0.99      1.00       336\n",
      "                            hepatitis d       0.98      0.99      0.99       337\n",
      "                            hepatitis e       1.00      1.00      1.00       341\n",
      "                           hypertension       1.00      1.00      1.00       887\n",
      "                        hyperthyroidism       1.00      1.00      1.00       337\n",
      "                           hypoglycemia       1.00      1.00      1.00       337\n",
      "                         hypothyroidism       1.00      1.00      1.00       391\n",
      "                               impetigo       0.99      1.00      0.99       343\n",
      "                               jaundice       1.00      0.99      1.00       345\n",
      "                                malaria       1.00      1.00      1.00       358\n",
      "                               migraine       1.00      1.00      1.00      1210\n",
      "                        osteoarthristis       1.00      1.00      1.00       345\n",
      "           paralysis (brain hemorrhage)       0.99      1.00      1.00       340\n",
      "                    peptic ulcer diseae       1.00      1.00      1.00       335\n",
      "                              pneumonia       1.00      1.00      1.00       581\n",
      "                              psoriasis       1.00      0.99      1.00       337\n",
      "                           tuberculosis       1.00      1.00      1.00       593\n",
      "                                typhoid       1.00      1.00      1.00       720\n",
      "                urinary tract infection       1.00      1.00      1.00       330\n",
      "                         varicose veins       1.00      1.00      1.00       334\n",
      "\n",
      "                               accuracy                           1.00     20000\n",
      "                              macro avg       1.00      1.00      1.00     20000\n",
      "                           weighted avg       1.00      1.00      1.00     20000\n",
      "\n",
      "KNN Top-3 Accuracy: 0.9993\n"
     ]
    }
   ],
   "source": [
    "from sklearn.metrics import accuracy_score, classification_report, top_k_accuracy_score\n",
    "\n",
    "# If knn is not defined, define it here\n",
    "from sklearn.neighbors import KNeighborsClassifier\n",
    "knn = KNeighborsClassifier(n_jobs=-1)\n",
    "knn.fit(X_train, y_train_enc)\n",
    "y_pred_knn = knn.predict(X_test)\n",
    "\n",
    "print(\"KNN Accuracy:\", accuracy_score(y_test_enc, y_pred_knn))\n",
    "print(classification_report(y_test_enc, y_pred_knn, target_names=le.classes_))\n",
    "\n",
    "# Top-3 accuracy for KNN\n",
    "y_proba_knn = knn.predict_proba(X_test)\n",
    "print(\"KNN Top-3 Accuracy:\", top_k_accuracy_score(y_test_enc, y_proba_knn, k=3))"
   ]
  },
  {
   "cell_type": "code",
   "execution_count": 50,
   "id": "f8f69d97",
   "metadata": {},
   "outputs": [
    {
     "name": "stdout",
     "output_type": "stream",
     "text": [
      "Naive Bayes Accuracy: 0.99615\n",
      "                                         precision    recall  f1-score   support\n",
      "\n",
      "(vertigo) paroymsal  positional vertigo       1.00      0.99      1.00       341\n",
      "                                   acne       1.00      0.97      0.98       338\n",
      "                                   aids       1.00      0.99      1.00       373\n",
      "                    alcoholic hepatitis       0.99      0.98      0.99       348\n",
      "                                allergy       1.00      1.00      1.00       958\n",
      "                              arthritis       1.00      1.00      1.00       855\n",
      "                       bronchial asthma       1.00      1.00      1.00       340\n",
      "                   cervical spondylosis       1.00      1.00      1.00       323\n",
      "                            chicken pox       1.00      1.00      1.00       500\n",
      "                    chronic cholestasis       0.98      0.96      0.97       338\n",
      "                            common cold       1.00      1.00      1.00      1391\n",
      "                                 dengue       1.00      1.00      1.00       470\n",
      "                               diabetes       1.00      1.00      1.00      1486\n",
      "           dimorphic hemmorhoids(piles)       1.00      1.00      1.00       350\n",
      "                          drug reaction       1.00      0.99      1.00       340\n",
      "                       fungal infection       0.98      0.99      0.98       350\n",
      "                        gastroenteritis       1.00      0.99      1.00       344\n",
      "                                   gerd       1.00      1.00      1.00       332\n",
      "                           heart attack       1.00      0.98      0.99       399\n",
      "                            hepatitis a       0.98      1.00      0.99       347\n",
      "                            hepatitis b       0.98      1.00      0.99       340\n",
      "                            hepatitis c       1.00      0.99      1.00       336\n",
      "                            hepatitis d       0.99      0.96      0.97       337\n",
      "                            hepatitis e       0.98      1.00      0.99       341\n",
      "                           hypertension       1.00      1.00      1.00       887\n",
      "                        hyperthyroidism       1.00      1.00      1.00       337\n",
      "                           hypoglycemia       1.00      1.00      1.00       337\n",
      "                         hypothyroidism       1.00      1.00      1.00       391\n",
      "                               impetigo       0.99      1.00      0.99       343\n",
      "                               jaundice       0.98      1.00      0.99       345\n",
      "                                malaria       1.00      1.00      1.00       358\n",
      "                               migraine       1.00      1.00      1.00      1210\n",
      "                        osteoarthristis       1.00      1.00      1.00       345\n",
      "           paralysis (brain hemorrhage)       1.00      1.00      1.00       340\n",
      "                    peptic ulcer diseae       1.00      1.00      1.00       335\n",
      "                              pneumonia       1.00      1.00      1.00       581\n",
      "                              psoriasis       1.00      1.00      1.00       337\n",
      "                           tuberculosis       0.99      1.00      0.99       593\n",
      "                                typhoid       1.00      1.00      1.00       720\n",
      "                urinary tract infection       1.00      1.00      1.00       330\n",
      "                         varicose veins       1.00      1.00      1.00       334\n",
      "\n",
      "                               accuracy                           1.00     20000\n",
      "                              macro avg       1.00      0.99      1.00     20000\n",
      "                           weighted avg       1.00      1.00      1.00     20000\n",
      "\n",
      "Naive Bayes Top-3 Accuracy: 0.99965\n"
     ]
    }
   ],
   "source": [
    "from sklearn.naive_bayes import MultinomialNB\n",
    "\n",
    "# Naive Bayes expects non-negative features (symptom counts are fine)\n",
    "nb = MultinomialNB()\n",
    "nb.fit(X_train, y_train_enc)\n",
    "y_pred_nb = nb.predict(X_test)\n",
    "\n",
    "print(\"Naive Bayes Accuracy:\", accuracy_score(y_test_enc, y_pred_nb))\n",
    "print(classification_report(y_test_enc, y_pred_nb, target_names=le.classes_))\n",
    "\n",
    "# Top-3 accuracy for Naive Bayes\n",
    "y_proba_nb = nb.predict_proba(X_test)\n",
    "print(\"Naive Bayes Top-3 Accuracy:\", top_k_accuracy_score(y_test_enc, y_proba_nb, k=3))"
   ]
  },
  {
   "cell_type": "code",
   "execution_count": 51,
   "id": "c4f9f0a0",
   "metadata": {},
   "outputs": [
    {
     "name": "stdout",
     "output_type": "stream",
     "text": [
      "Decision Tree Accuracy: 0.4632\n",
      "                                         precision    recall  f1-score   support\n",
      "\n",
      "(vertigo) paroymsal  positional vertigo       0.00      0.00      0.00       341\n",
      "                                   acne       0.00      0.00      0.00       338\n",
      "                                   aids       1.00      0.00      0.01       373\n",
      "                    alcoholic hepatitis       0.08      0.01      0.02       348\n",
      "                                allergy       0.96      0.94      0.95       958\n",
      "                              arthritis       0.93      0.93      0.93       855\n",
      "                       bronchial asthma       0.00      0.00      0.00       340\n",
      "                   cervical spondylosis       0.00      0.00      0.00       323\n",
      "                            chicken pox       0.51      0.93      0.66       500\n",
      "                    chronic cholestasis       0.00      0.00      0.00       338\n",
      "                            common cold       1.00      0.94      0.97      1391\n",
      "                                 dengue       0.20      0.02      0.03       470\n",
      "                               diabetes       1.00      0.94      0.97      1486\n",
      "           dimorphic hemmorhoids(piles)       0.00      0.00      0.00       350\n",
      "                          drug reaction       0.00      0.00      0.00       340\n",
      "                       fungal infection       1.00      0.01      0.03       350\n",
      "                        gastroenteritis       0.00      0.00      0.00       344\n",
      "                                   gerd       0.99      0.44      0.61       332\n",
      "                           heart attack       0.04      0.98      0.07       399\n",
      "                            hepatitis a       1.00      0.01      0.01       347\n",
      "                            hepatitis b       0.00      0.00      0.00       340\n",
      "                            hepatitis c       0.00      0.00      0.00       336\n",
      "                            hepatitis d       0.00      0.00      0.00       337\n",
      "                            hepatitis e       0.00      0.00      0.00       341\n",
      "                           hypertension       1.00      0.94      0.97       887\n",
      "                        hyperthyroidism       1.00      0.01      0.02       337\n",
      "                           hypoglycemia       1.00      0.00      0.01       337\n",
      "                         hypothyroidism       1.00      0.01      0.01       391\n",
      "                               impetigo       0.00      0.00      0.00       343\n",
      "                               jaundice       1.00      0.01      0.01       345\n",
      "                                malaria       0.00      0.00      0.00       358\n",
      "                               migraine       1.00      0.94      0.97      1210\n",
      "                        osteoarthristis       1.00      0.01      0.01       345\n",
      "           paralysis (brain hemorrhage)       1.00      0.00      0.01       340\n",
      "                    peptic ulcer diseae       1.00      0.33      0.49       335\n",
      "                              pneumonia       0.89      0.93      0.91       581\n",
      "                              psoriasis       0.00      0.00      0.00       337\n",
      "                           tuberculosis       0.94      0.92      0.93       593\n",
      "                                typhoid       0.99      0.94      0.96       720\n",
      "                urinary tract infection       0.00      0.00      0.00       330\n",
      "                         varicose veins       0.00      0.00      0.00       334\n",
      "\n",
      "                               accuracy                           0.46     20000\n",
      "                              macro avg       0.50      0.27      0.26     20000\n",
      "                           weighted avg       0.63      0.46      0.45     20000\n",
      "\n",
      "Decision Tree Top-3 Accuracy: 0.5228\n"
     ]
    },
    {
     "name": "stderr",
     "output_type": "stream",
     "text": [
      "/Library/Frameworks/Python.framework/Versions/3.11/lib/python3.11/site-packages/sklearn/metrics/_classification.py:1706: UndefinedMetricWarning: Precision is ill-defined and being set to 0.0 in labels with no predicted samples. Use `zero_division` parameter to control this behavior.\n",
      "  _warn_prf(average, modifier, f\"{metric.capitalize()} is\", result.shape[0])\n",
      "/Library/Frameworks/Python.framework/Versions/3.11/lib/python3.11/site-packages/sklearn/metrics/_classification.py:1706: UndefinedMetricWarning: Precision is ill-defined and being set to 0.0 in labels with no predicted samples. Use `zero_division` parameter to control this behavior.\n",
      "  _warn_prf(average, modifier, f\"{metric.capitalize()} is\", result.shape[0])\n",
      "/Library/Frameworks/Python.framework/Versions/3.11/lib/python3.11/site-packages/sklearn/metrics/_classification.py:1706: UndefinedMetricWarning: Precision is ill-defined and being set to 0.0 in labels with no predicted samples. Use `zero_division` parameter to control this behavior.\n",
      "  _warn_prf(average, modifier, f\"{metric.capitalize()} is\", result.shape[0])\n"
     ]
    }
   ],
   "source": [
    "from sklearn.tree import DecisionTreeClassifier\n",
    "\n",
    "dt = DecisionTreeClassifier(max_depth=10, random_state=42)\n",
    "dt.fit(X_train, y_train_enc)\n",
    "y_pred_dt = dt.predict(X_test)\n",
    "\n",
    "print(\"Decision Tree Accuracy:\", accuracy_score(y_test_enc, y_pred_dt))\n",
    "print(classification_report(y_test_enc, y_pred_dt, target_names=le.classes_))\n",
    "\n",
    "# Top-3 accuracy for Decision Tree\n",
    "y_proba_dt = dt.predict_proba(X_test)\n",
    "print(\"Decision Tree Top-3 Accuracy:\", top_k_accuracy_score(y_test_enc, y_proba_dt, k=3))"
   ]
  },
  {
   "cell_type": "code",
   "execution_count": 52,
   "id": "80cca135",
   "metadata": {},
   "outputs": [
    {
     "name": "stdout",
     "output_type": "stream",
     "text": [
      "Fitting 3 folds for each of 20 candidates, totalling 60 fits\n"
     ]
    },
    {
     "name": "stderr",
     "output_type": "stream",
     "text": [
      "/Library/Frameworks/Python.framework/Versions/3.11/lib/python3.11/site-packages/xgboost/training.py:183: UserWarning: [11:01:59] WARNING: /Users/runner/work/xgboost/xgboost/src/learner.cc:738: \n",
      "Parameters: { \"use_label_encoder\" } are not used.\n",
      "\n",
      "  bst.update(dtrain, iteration=i, fobj=obj)\n",
      "/Library/Frameworks/Python.framework/Versions/3.11/lib/python3.11/site-packages/xgboost/training.py:183: UserWarning: [11:01:59] WARNING: /Users/runner/work/xgboost/xgboost/src/learner.cc:738: \n",
      "Parameters: { \"use_label_encoder\" } are not used.\n",
      "\n",
      "  bst.update(dtrain, iteration=i, fobj=obj)\n",
      "/Library/Frameworks/Python.framework/Versions/3.11/lib/python3.11/site-packages/xgboost/training.py:183: UserWarning: [11:01:59] WARNING: /Users/runner/work/xgboost/xgboost/src/learner.cc:738: \n",
      "Parameters: { \"use_label_encoder\" } are not used.\n",
      "\n",
      "  bst.update(dtrain, iteration=i, fobj=obj)\n",
      "/Library/Frameworks/Python.framework/Versions/3.11/lib/python3.11/site-packages/xgboost/training.py:183: UserWarning: [11:01:59] WARNING: /Users/runner/work/xgboost/xgboost/src/learner.cc:738: \n",
      "Parameters: { \"use_label_encoder\" } are not used.\n",
      "\n",
      "  bst.update(dtrain, iteration=i, fobj=obj)\n",
      "/Library/Frameworks/Python.framework/Versions/3.11/lib/python3.11/site-packages/xgboost/training.py:183: UserWarning: [11:01:59] WARNING: /Users/runner/work/xgboost/xgboost/src/learner.cc:738: \n",
      "Parameters: { \"use_label_encoder\" } are not used.\n",
      "\n",
      "  bst.update(dtrain, iteration=i, fobj=obj)\n",
      "/Library/Frameworks/Python.framework/Versions/3.11/lib/python3.11/site-packages/xgboost/training.py:183: UserWarning: [11:01:59] WARNING: /Users/runner/work/xgboost/xgboost/src/learner.cc:738: \n",
      "Parameters: { \"use_label_encoder\" } are not used.\n",
      "\n",
      "  bst.update(dtrain, iteration=i, fobj=obj)\n",
      "/Library/Frameworks/Python.framework/Versions/3.11/lib/python3.11/site-packages/xgboost/training.py:183: UserWarning: [11:01:59] WARNING: /Users/runner/work/xgboost/xgboost/src/learner.cc:738: \n",
      "Parameters: { \"use_label_encoder\" } are not used.\n",
      "\n",
      "  bst.update(dtrain, iteration=i, fobj=obj)\n",
      "/Library/Frameworks/Python.framework/Versions/3.11/lib/python3.11/site-packages/xgboost/training.py:183: UserWarning: [11:01:59] WARNING: /Users/runner/work/xgboost/xgboost/src/learner.cc:738: \n",
      "Parameters: { \"use_label_encoder\" } are not used.\n",
      "\n",
      "  bst.update(dtrain, iteration=i, fobj=obj)\n",
      "/Library/Frameworks/Python.framework/Versions/3.11/lib/python3.11/site-packages/sklearn/utils/_response.py:203: UserWarning: The number of unique classes is greater than 50% of the number of samples.\n",
      "  target_type = type_of_target(classes)\n",
      "/Library/Frameworks/Python.framework/Versions/3.11/lib/python3.11/site-packages/sklearn/utils/_response.py:203: UserWarning: The number of unique classes is greater than 50% of the number of samples.\n",
      "  target_type = type_of_target(classes)\n",
      "/Library/Frameworks/Python.framework/Versions/3.11/lib/python3.11/site-packages/xgboost/training.py:183: UserWarning: [11:02:34] WARNING: /Users/runner/work/xgboost/xgboost/src/learner.cc:738: \n",
      "Parameters: { \"use_label_encoder\" } are not used.\n",
      "\n",
      "  bst.update(dtrain, iteration=i, fobj=obj)\n",
      "/Library/Frameworks/Python.framework/Versions/3.11/lib/python3.11/site-packages/xgboost/training.py:183: UserWarning: [11:02:35] WARNING: /Users/runner/work/xgboost/xgboost/src/learner.cc:738: \n",
      "Parameters: { \"use_label_encoder\" } are not used.\n",
      "\n",
      "  bst.update(dtrain, iteration=i, fobj=obj)\n",
      "/Library/Frameworks/Python.framework/Versions/3.11/lib/python3.11/site-packages/sklearn/utils/_response.py:203: UserWarning: The number of unique classes is greater than 50% of the number of samples.\n",
      "  target_type = type_of_target(classes)\n",
      "/Library/Frameworks/Python.framework/Versions/3.11/lib/python3.11/site-packages/xgboost/training.py:183: UserWarning: [11:03:10] WARNING: /Users/runner/work/xgboost/xgboost/src/learner.cc:738: \n",
      "Parameters: { \"use_label_encoder\" } are not used.\n",
      "\n",
      "  bst.update(dtrain, iteration=i, fobj=obj)\n",
      "/Library/Frameworks/Python.framework/Versions/3.11/lib/python3.11/site-packages/sklearn/utils/_response.py:203: UserWarning: The number of unique classes is greater than 50% of the number of samples.\n",
      "  target_type = type_of_target(classes)\n",
      "/Library/Frameworks/Python.framework/Versions/3.11/lib/python3.11/site-packages/xgboost/training.py:183: UserWarning: [11:03:12] WARNING: /Users/runner/work/xgboost/xgboost/src/learner.cc:738: \n",
      "Parameters: { \"use_label_encoder\" } are not used.\n",
      "\n",
      "  bst.update(dtrain, iteration=i, fobj=obj)\n",
      "/Library/Frameworks/Python.framework/Versions/3.11/lib/python3.11/site-packages/sklearn/utils/_response.py:203: UserWarning: The number of unique classes is greater than 50% of the number of samples.\n",
      "  target_type = type_of_target(classes)\n",
      "/Library/Frameworks/Python.framework/Versions/3.11/lib/python3.11/site-packages/sklearn/utils/_response.py:203: UserWarning: The number of unique classes is greater than 50% of the number of samples.\n",
      "  target_type = type_of_target(classes)\n",
      "/Library/Frameworks/Python.framework/Versions/3.11/lib/python3.11/site-packages/sklearn/utils/_response.py:203: UserWarning: The number of unique classes is greater than 50% of the number of samples.\n",
      "  target_type = type_of_target(classes)\n",
      "/Library/Frameworks/Python.framework/Versions/3.11/lib/python3.11/site-packages/xgboost/training.py:183: UserWarning: [11:03:18] WARNING: /Users/runner/work/xgboost/xgboost/src/learner.cc:738: \n",
      "Parameters: { \"use_label_encoder\" } are not used.\n",
      "\n",
      "  bst.update(dtrain, iteration=i, fobj=obj)\n",
      "/Library/Frameworks/Python.framework/Versions/3.11/lib/python3.11/site-packages/xgboost/training.py:183: UserWarning: [11:03:20] WARNING: /Users/runner/work/xgboost/xgboost/src/learner.cc:738: \n",
      "Parameters: { \"use_label_encoder\" } are not used.\n",
      "\n",
      "  bst.update(dtrain, iteration=i, fobj=obj)\n",
      "/Library/Frameworks/Python.framework/Versions/3.11/lib/python3.11/site-packages/xgboost/training.py:183: UserWarning: [11:03:21] WARNING: /Users/runner/work/xgboost/xgboost/src/learner.cc:738: \n",
      "Parameters: { \"use_label_encoder\" } are not used.\n",
      "\n",
      "  bst.update(dtrain, iteration=i, fobj=obj)\n",
      "/Library/Frameworks/Python.framework/Versions/3.11/lib/python3.11/site-packages/sklearn/utils/_response.py:203: UserWarning: The number of unique classes is greater than 50% of the number of samples.\n",
      "  target_type = type_of_target(classes)\n",
      "/Library/Frameworks/Python.framework/Versions/3.11/lib/python3.11/site-packages/sklearn/utils/_response.py:203: UserWarning: The number of unique classes is greater than 50% of the number of samples.\n",
      "  target_type = type_of_target(classes)\n",
      "/Library/Frameworks/Python.framework/Versions/3.11/lib/python3.11/site-packages/sklearn/utils/_response.py:203: UserWarning: The number of unique classes is greater than 50% of the number of samples.\n",
      "  target_type = type_of_target(classes)\n",
      "/Library/Frameworks/Python.framework/Versions/3.11/lib/python3.11/site-packages/xgboost/training.py:183: UserWarning: [11:03:31] WARNING: /Users/runner/work/xgboost/xgboost/src/learner.cc:738: \n",
      "Parameters: { \"use_label_encoder\" } are not used.\n",
      "\n",
      "  bst.update(dtrain, iteration=i, fobj=obj)\n",
      "/Library/Frameworks/Python.framework/Versions/3.11/lib/python3.11/site-packages/xgboost/training.py:183: UserWarning: [11:03:32] WARNING: /Users/runner/work/xgboost/xgboost/src/learner.cc:738: \n",
      "Parameters: { \"use_label_encoder\" } are not used.\n",
      "\n",
      "  bst.update(dtrain, iteration=i, fobj=obj)\n",
      "/Library/Frameworks/Python.framework/Versions/3.11/lib/python3.11/site-packages/xgboost/training.py:183: UserWarning: [11:03:32] WARNING: /Users/runner/work/xgboost/xgboost/src/learner.cc:738: \n",
      "Parameters: { \"use_label_encoder\" } are not used.\n",
      "\n",
      "  bst.update(dtrain, iteration=i, fobj=obj)\n",
      "/Library/Frameworks/Python.framework/Versions/3.11/lib/python3.11/site-packages/sklearn/utils/_response.py:203: UserWarning: The number of unique classes is greater than 50% of the number of samples.\n",
      "  target_type = type_of_target(classes)\n",
      "/Library/Frameworks/Python.framework/Versions/3.11/lib/python3.11/site-packages/xgboost/training.py:183: UserWarning: [11:03:53] WARNING: /Users/runner/work/xgboost/xgboost/src/learner.cc:738: \n",
      "Parameters: { \"use_label_encoder\" } are not used.\n",
      "\n",
      "  bst.update(dtrain, iteration=i, fobj=obj)\n",
      "/Library/Frameworks/Python.framework/Versions/3.11/lib/python3.11/site-packages/sklearn/utils/_response.py:203: UserWarning: The number of unique classes is greater than 50% of the number of samples.\n",
      "  target_type = type_of_target(classes)\n",
      "/Library/Frameworks/Python.framework/Versions/3.11/lib/python3.11/site-packages/xgboost/training.py:183: UserWarning: [11:03:56] WARNING: /Users/runner/work/xgboost/xgboost/src/learner.cc:738: \n",
      "Parameters: { \"use_label_encoder\" } are not used.\n",
      "\n",
      "  bst.update(dtrain, iteration=i, fobj=obj)\n",
      "/Library/Frameworks/Python.framework/Versions/3.11/lib/python3.11/site-packages/sklearn/utils/_response.py:203: UserWarning: The number of unique classes is greater than 50% of the number of samples.\n",
      "  target_type = type_of_target(classes)\n",
      "/Library/Frameworks/Python.framework/Versions/3.11/lib/python3.11/site-packages/sklearn/utils/_response.py:203: UserWarning: The number of unique classes is greater than 50% of the number of samples.\n",
      "  target_type = type_of_target(classes)\n",
      "/Library/Frameworks/Python.framework/Versions/3.11/lib/python3.11/site-packages/sklearn/utils/_response.py:203: UserWarning: The number of unique classes is greater than 50% of the number of samples.\n",
      "  target_type = type_of_target(classes)\n",
      "/Library/Frameworks/Python.framework/Versions/3.11/lib/python3.11/site-packages/xgboost/training.py:183: UserWarning: [11:04:12] WARNING: /Users/runner/work/xgboost/xgboost/src/learner.cc:738: \n",
      "Parameters: { \"use_label_encoder\" } are not used.\n",
      "\n",
      "  bst.update(dtrain, iteration=i, fobj=obj)\n",
      "/Library/Frameworks/Python.framework/Versions/3.11/lib/python3.11/site-packages/xgboost/training.py:183: UserWarning: [11:04:12] WARNING: /Users/runner/work/xgboost/xgboost/src/learner.cc:738: \n",
      "Parameters: { \"use_label_encoder\" } are not used.\n",
      "\n",
      "  bst.update(dtrain, iteration=i, fobj=obj)\n",
      "/Library/Frameworks/Python.framework/Versions/3.11/lib/python3.11/site-packages/sklearn/utils/_response.py:203: UserWarning: The number of unique classes is greater than 50% of the number of samples.\n",
      "  target_type = type_of_target(classes)\n",
      "/Library/Frameworks/Python.framework/Versions/3.11/lib/python3.11/site-packages/xgboost/training.py:183: UserWarning: [11:04:14] WARNING: /Users/runner/work/xgboost/xgboost/src/learner.cc:738: \n",
      "Parameters: { \"use_label_encoder\" } are not used.\n",
      "\n",
      "  bst.update(dtrain, iteration=i, fobj=obj)\n",
      "/Library/Frameworks/Python.framework/Versions/3.11/lib/python3.11/site-packages/sklearn/utils/_response.py:203: UserWarning: The number of unique classes is greater than 50% of the number of samples.\n",
      "  target_type = type_of_target(classes)\n",
      "/Library/Frameworks/Python.framework/Versions/3.11/lib/python3.11/site-packages/xgboost/training.py:183: UserWarning: [11:04:16] WARNING: /Users/runner/work/xgboost/xgboost/src/learner.cc:738: \n",
      "Parameters: { \"use_label_encoder\" } are not used.\n",
      "\n",
      "  bst.update(dtrain, iteration=i, fobj=obj)\n",
      "/Library/Frameworks/Python.framework/Versions/3.11/lib/python3.11/site-packages/sklearn/utils/_response.py:203: UserWarning: The number of unique classes is greater than 50% of the number of samples.\n",
      "  target_type = type_of_target(classes)\n",
      "/Library/Frameworks/Python.framework/Versions/3.11/lib/python3.11/site-packages/xgboost/training.py:183: UserWarning: [11:04:18] WARNING: /Users/runner/work/xgboost/xgboost/src/learner.cc:738: \n",
      "Parameters: { \"use_label_encoder\" } are not used.\n",
      "\n",
      "  bst.update(dtrain, iteration=i, fobj=obj)\n",
      "/Library/Frameworks/Python.framework/Versions/3.11/lib/python3.11/site-packages/xgboost/training.py:183: UserWarning: [11:04:21] WARNING: /Users/runner/work/xgboost/xgboost/src/learner.cc:738: \n",
      "Parameters: { \"use_label_encoder\" } are not used.\n",
      "\n",
      "  bst.update(dtrain, iteration=i, fobj=obj)\n",
      "/Library/Frameworks/Python.framework/Versions/3.11/lib/python3.11/site-packages/sklearn/utils/_response.py:203: UserWarning: The number of unique classes is greater than 50% of the number of samples.\n",
      "  target_type = type_of_target(classes)\n",
      "/Library/Frameworks/Python.framework/Versions/3.11/lib/python3.11/site-packages/sklearn/utils/_response.py:203: UserWarning: The number of unique classes is greater than 50% of the number of samples.\n",
      "  target_type = type_of_target(classes)\n",
      "/Library/Frameworks/Python.framework/Versions/3.11/lib/python3.11/site-packages/xgboost/training.py:183: UserWarning: [11:05:04] WARNING: /Users/runner/work/xgboost/xgboost/src/learner.cc:738: \n",
      "Parameters: { \"use_label_encoder\" } are not used.\n",
      "\n",
      "  bst.update(dtrain, iteration=i, fobj=obj)\n",
      "/Library/Frameworks/Python.framework/Versions/3.11/lib/python3.11/site-packages/xgboost/training.py:183: UserWarning: [11:05:06] WARNING: /Users/runner/work/xgboost/xgboost/src/learner.cc:738: \n",
      "Parameters: { \"use_label_encoder\" } are not used.\n",
      "\n",
      "  bst.update(dtrain, iteration=i, fobj=obj)\n",
      "/Library/Frameworks/Python.framework/Versions/3.11/lib/python3.11/site-packages/sklearn/utils/_response.py:203: UserWarning: The number of unique classes is greater than 50% of the number of samples.\n",
      "  target_type = type_of_target(classes)\n",
      "/Library/Frameworks/Python.framework/Versions/3.11/lib/python3.11/site-packages/xgboost/training.py:183: UserWarning: [11:05:08] WARNING: /Users/runner/work/xgboost/xgboost/src/learner.cc:738: \n",
      "Parameters: { \"use_label_encoder\" } are not used.\n",
      "\n",
      "  bst.update(dtrain, iteration=i, fobj=obj)\n",
      "/Library/Frameworks/Python.framework/Versions/3.11/lib/python3.11/site-packages/sklearn/utils/_response.py:203: UserWarning: The number of unique classes is greater than 50% of the number of samples.\n",
      "  target_type = type_of_target(classes)\n",
      "/Library/Frameworks/Python.framework/Versions/3.11/lib/python3.11/site-packages/sklearn/utils/_response.py:203: UserWarning: The number of unique classes is greater than 50% of the number of samples.\n",
      "  target_type = type_of_target(classes)\n",
      "/Library/Frameworks/Python.framework/Versions/3.11/lib/python3.11/site-packages/xgboost/training.py:183: UserWarning: [11:05:20] WARNING: /Users/runner/work/xgboost/xgboost/src/learner.cc:738: \n",
      "Parameters: { \"use_label_encoder\" } are not used.\n",
      "\n",
      "  bst.update(dtrain, iteration=i, fobj=obj)\n",
      "/Library/Frameworks/Python.framework/Versions/3.11/lib/python3.11/site-packages/xgboost/training.py:183: UserWarning: [11:05:23] WARNING: /Users/runner/work/xgboost/xgboost/src/learner.cc:738: \n",
      "Parameters: { \"use_label_encoder\" } are not used.\n",
      "\n",
      "  bst.update(dtrain, iteration=i, fobj=obj)\n",
      "/Library/Frameworks/Python.framework/Versions/3.11/lib/python3.11/site-packages/sklearn/utils/_response.py:203: UserWarning: The number of unique classes is greater than 50% of the number of samples.\n",
      "  target_type = type_of_target(classes)\n",
      "/Library/Frameworks/Python.framework/Versions/3.11/lib/python3.11/site-packages/xgboost/training.py:183: UserWarning: [11:05:38] WARNING: /Users/runner/work/xgboost/xgboost/src/learner.cc:738: \n",
      "Parameters: { \"use_label_encoder\" } are not used.\n",
      "\n",
      "  bst.update(dtrain, iteration=i, fobj=obj)\n",
      "/Library/Frameworks/Python.framework/Versions/3.11/lib/python3.11/site-packages/sklearn/utils/_response.py:203: UserWarning: The number of unique classes is greater than 50% of the number of samples.\n",
      "  target_type = type_of_target(classes)\n",
      "/Library/Frameworks/Python.framework/Versions/3.11/lib/python3.11/site-packages/xgboost/training.py:183: UserWarning: [11:05:49] WARNING: /Users/runner/work/xgboost/xgboost/src/learner.cc:738: \n",
      "Parameters: { \"use_label_encoder\" } are not used.\n",
      "\n",
      "  bst.update(dtrain, iteration=i, fobj=obj)\n",
      "/Library/Frameworks/Python.framework/Versions/3.11/lib/python3.11/site-packages/sklearn/utils/_response.py:203: UserWarning: The number of unique classes is greater than 50% of the number of samples.\n",
      "  target_type = type_of_target(classes)\n",
      "/Library/Frameworks/Python.framework/Versions/3.11/lib/python3.11/site-packages/xgboost/training.py:183: UserWarning: [11:05:51] WARNING: /Users/runner/work/xgboost/xgboost/src/learner.cc:738: \n",
      "Parameters: { \"use_label_encoder\" } are not used.\n",
      "\n",
      "  bst.update(dtrain, iteration=i, fobj=obj)\n",
      "/Library/Frameworks/Python.framework/Versions/3.11/lib/python3.11/site-packages/sklearn/utils/_response.py:203: UserWarning: The number of unique classes is greater than 50% of the number of samples.\n",
      "  target_type = type_of_target(classes)\n",
      "/Library/Frameworks/Python.framework/Versions/3.11/lib/python3.11/site-packages/xgboost/training.py:183: UserWarning: [11:05:57] WARNING: /Users/runner/work/xgboost/xgboost/src/learner.cc:738: \n",
      "Parameters: { \"use_label_encoder\" } are not used.\n",
      "\n",
      "  bst.update(dtrain, iteration=i, fobj=obj)\n",
      "/Library/Frameworks/Python.framework/Versions/3.11/lib/python3.11/site-packages/sklearn/utils/_response.py:203: UserWarning: The number of unique classes is greater than 50% of the number of samples.\n",
      "  target_type = type_of_target(classes)\n",
      "/Library/Frameworks/Python.framework/Versions/3.11/lib/python3.11/site-packages/sklearn/utils/_response.py:203: UserWarning: The number of unique classes is greater than 50% of the number of samples.\n",
      "  target_type = type_of_target(classes)\n",
      "/Library/Frameworks/Python.framework/Versions/3.11/lib/python3.11/site-packages/xgboost/training.py:183: UserWarning: [11:06:00] WARNING: /Users/runner/work/xgboost/xgboost/src/learner.cc:738: \n",
      "Parameters: { \"use_label_encoder\" } are not used.\n",
      "\n",
      "  bst.update(dtrain, iteration=i, fobj=obj)\n",
      "/Library/Frameworks/Python.framework/Versions/3.11/lib/python3.11/site-packages/xgboost/training.py:183: UserWarning: [11:06:01] WARNING: /Users/runner/work/xgboost/xgboost/src/learner.cc:738: \n",
      "Parameters: { \"use_label_encoder\" } are not used.\n",
      "\n",
      "  bst.update(dtrain, iteration=i, fobj=obj)\n",
      "/Library/Frameworks/Python.framework/Versions/3.11/lib/python3.11/site-packages/sklearn/utils/_response.py:203: UserWarning: The number of unique classes is greater than 50% of the number of samples.\n",
      "  target_type = type_of_target(classes)\n",
      "/Library/Frameworks/Python.framework/Versions/3.11/lib/python3.11/site-packages/xgboost/training.py:183: UserWarning: [11:06:02] WARNING: /Users/runner/work/xgboost/xgboost/src/learner.cc:738: \n",
      "Parameters: { \"use_label_encoder\" } are not used.\n",
      "\n",
      "  bst.update(dtrain, iteration=i, fobj=obj)\n",
      "/Library/Frameworks/Python.framework/Versions/3.11/lib/python3.11/site-packages/sklearn/utils/_response.py:203: UserWarning: The number of unique classes is greater than 50% of the number of samples.\n",
      "  target_type = type_of_target(classes)\n",
      "/Library/Frameworks/Python.framework/Versions/3.11/lib/python3.11/site-packages/xgboost/training.py:183: UserWarning: [11:06:22] WARNING: /Users/runner/work/xgboost/xgboost/src/learner.cc:738: \n",
      "Parameters: { \"use_label_encoder\" } are not used.\n",
      "\n",
      "  bst.update(dtrain, iteration=i, fobj=obj)\n",
      "/Library/Frameworks/Python.framework/Versions/3.11/lib/python3.11/site-packages/sklearn/utils/_response.py:203: UserWarning: The number of unique classes is greater than 50% of the number of samples.\n",
      "  target_type = type_of_target(classes)\n",
      "/Library/Frameworks/Python.framework/Versions/3.11/lib/python3.11/site-packages/xgboost/training.py:183: UserWarning: [11:06:38] WARNING: /Users/runner/work/xgboost/xgboost/src/learner.cc:738: \n",
      "Parameters: { \"use_label_encoder\" } are not used.\n",
      "\n",
      "  bst.update(dtrain, iteration=i, fobj=obj)\n",
      "/Library/Frameworks/Python.framework/Versions/3.11/lib/python3.11/site-packages/sklearn/utils/_response.py:203: UserWarning: The number of unique classes is greater than 50% of the number of samples.\n",
      "  target_type = type_of_target(classes)\n",
      "/Library/Frameworks/Python.framework/Versions/3.11/lib/python3.11/site-packages/xgboost/training.py:183: UserWarning: [11:07:09] WARNING: /Users/runner/work/xgboost/xgboost/src/learner.cc:738: \n",
      "Parameters: { \"use_label_encoder\" } are not used.\n",
      "\n",
      "  bst.update(dtrain, iteration=i, fobj=obj)\n",
      "/Library/Frameworks/Python.framework/Versions/3.11/lib/python3.11/site-packages/sklearn/utils/_response.py:203: UserWarning: The number of unique classes is greater than 50% of the number of samples.\n",
      "  target_type = type_of_target(classes)\n",
      "/Library/Frameworks/Python.framework/Versions/3.11/lib/python3.11/site-packages/xgboost/training.py:183: UserWarning: [11:08:03] WARNING: /Users/runner/work/xgboost/xgboost/src/learner.cc:738: \n",
      "Parameters: { \"use_label_encoder\" } are not used.\n",
      "\n",
      "  bst.update(dtrain, iteration=i, fobj=obj)\n",
      "/Library/Frameworks/Python.framework/Versions/3.11/lib/python3.11/site-packages/sklearn/utils/_response.py:203: UserWarning: The number of unique classes is greater than 50% of the number of samples.\n",
      "  target_type = type_of_target(classes)\n",
      "/Library/Frameworks/Python.framework/Versions/3.11/lib/python3.11/site-packages/xgboost/training.py:183: UserWarning: [11:08:30] WARNING: /Users/runner/work/xgboost/xgboost/src/learner.cc:738: \n",
      "Parameters: { \"use_label_encoder\" } are not used.\n",
      "\n",
      "  bst.update(dtrain, iteration=i, fobj=obj)\n",
      "/Library/Frameworks/Python.framework/Versions/3.11/lib/python3.11/site-packages/sklearn/utils/_response.py:203: UserWarning: The number of unique classes is greater than 50% of the number of samples.\n",
      "  target_type = type_of_target(classes)\n",
      "/Library/Frameworks/Python.framework/Versions/3.11/lib/python3.11/site-packages/sklearn/utils/_response.py:203: UserWarning: The number of unique classes is greater than 50% of the number of samples.\n",
      "  target_type = type_of_target(classes)\n",
      "/Library/Frameworks/Python.framework/Versions/3.11/lib/python3.11/site-packages/xgboost/training.py:183: UserWarning: [11:08:36] WARNING: /Users/runner/work/xgboost/xgboost/src/learner.cc:738: \n",
      "Parameters: { \"use_label_encoder\" } are not used.\n",
      "\n",
      "  bst.update(dtrain, iteration=i, fobj=obj)\n",
      "/Library/Frameworks/Python.framework/Versions/3.11/lib/python3.11/site-packages/xgboost/training.py:183: UserWarning: [11:08:39] WARNING: /Users/runner/work/xgboost/xgboost/src/learner.cc:738: \n",
      "Parameters: { \"use_label_encoder\" } are not used.\n",
      "\n",
      "  bst.update(dtrain, iteration=i, fobj=obj)\n",
      "/Library/Frameworks/Python.framework/Versions/3.11/lib/python3.11/site-packages/sklearn/utils/_response.py:203: UserWarning: The number of unique classes is greater than 50% of the number of samples.\n",
      "  target_type = type_of_target(classes)\n",
      "/Library/Frameworks/Python.framework/Versions/3.11/lib/python3.11/site-packages/xgboost/training.py:183: UserWarning: [11:08:53] WARNING: /Users/runner/work/xgboost/xgboost/src/learner.cc:738: \n",
      "Parameters: { \"use_label_encoder\" } are not used.\n",
      "\n",
      "  bst.update(dtrain, iteration=i, fobj=obj)\n",
      "/Library/Frameworks/Python.framework/Versions/3.11/lib/python3.11/site-packages/sklearn/utils/_response.py:203: UserWarning: The number of unique classes is greater than 50% of the number of samples.\n",
      "  target_type = type_of_target(classes)\n",
      "/Library/Frameworks/Python.framework/Versions/3.11/lib/python3.11/site-packages/xgboost/training.py:183: UserWarning: [11:09:18] WARNING: /Users/runner/work/xgboost/xgboost/src/learner.cc:738: \n",
      "Parameters: { \"use_label_encoder\" } are not used.\n",
      "\n",
      "  bst.update(dtrain, iteration=i, fobj=obj)\n",
      "/Library/Frameworks/Python.framework/Versions/3.11/lib/python3.11/site-packages/sklearn/utils/_response.py:203: UserWarning: The number of unique classes is greater than 50% of the number of samples.\n",
      "  target_type = type_of_target(classes)\n",
      "/Library/Frameworks/Python.framework/Versions/3.11/lib/python3.11/site-packages/xgboost/training.py:183: UserWarning: [11:09:24] WARNING: /Users/runner/work/xgboost/xgboost/src/learner.cc:738: \n",
      "Parameters: { \"use_label_encoder\" } are not used.\n",
      "\n",
      "  bst.update(dtrain, iteration=i, fobj=obj)\n",
      "/Library/Frameworks/Python.framework/Versions/3.11/lib/python3.11/site-packages/sklearn/utils/_response.py:203: UserWarning: The number of unique classes is greater than 50% of the number of samples.\n",
      "  target_type = type_of_target(classes)\n",
      "/Library/Frameworks/Python.framework/Versions/3.11/lib/python3.11/site-packages/sklearn/utils/_response.py:203: UserWarning: The number of unique classes is greater than 50% of the number of samples.\n",
      "  target_type = type_of_target(classes)\n",
      "/Library/Frameworks/Python.framework/Versions/3.11/lib/python3.11/site-packages/xgboost/training.py:183: UserWarning: [11:09:33] WARNING: /Users/runner/work/xgboost/xgboost/src/learner.cc:738: \n",
      "Parameters: { \"use_label_encoder\" } are not used.\n",
      "\n",
      "  bst.update(dtrain, iteration=i, fobj=obj)\n",
      "/Library/Frameworks/Python.framework/Versions/3.11/lib/python3.11/site-packages/xgboost/training.py:183: UserWarning: [11:09:34] WARNING: /Users/runner/work/xgboost/xgboost/src/learner.cc:738: \n",
      "Parameters: { \"use_label_encoder\" } are not used.\n",
      "\n",
      "  bst.update(dtrain, iteration=i, fobj=obj)\n",
      "/Library/Frameworks/Python.framework/Versions/3.11/lib/python3.11/site-packages/sklearn/utils/_response.py:203: UserWarning: The number of unique classes is greater than 50% of the number of samples.\n",
      "  target_type = type_of_target(classes)\n",
      "/Library/Frameworks/Python.framework/Versions/3.11/lib/python3.11/site-packages/xgboost/training.py:183: UserWarning: [11:10:56] WARNING: /Users/runner/work/xgboost/xgboost/src/learner.cc:738: \n",
      "Parameters: { \"use_label_encoder\" } are not used.\n",
      "\n",
      "  bst.update(dtrain, iteration=i, fobj=obj)\n",
      "/Library/Frameworks/Python.framework/Versions/3.11/lib/python3.11/site-packages/sklearn/utils/_response.py:203: UserWarning: The number of unique classes is greater than 50% of the number of samples.\n",
      "  target_type = type_of_target(classes)\n",
      "/Library/Frameworks/Python.framework/Versions/3.11/lib/python3.11/site-packages/sklearn/utils/_response.py:203: UserWarning: The number of unique classes is greater than 50% of the number of samples.\n",
      "  target_type = type_of_target(classes)\n",
      "/Library/Frameworks/Python.framework/Versions/3.11/lib/python3.11/site-packages/xgboost/training.py:183: UserWarning: [11:11:19] WARNING: /Users/runner/work/xgboost/xgboost/src/learner.cc:738: \n",
      "Parameters: { \"use_label_encoder\" } are not used.\n",
      "\n",
      "  bst.update(dtrain, iteration=i, fobj=obj)\n",
      "/Library/Frameworks/Python.framework/Versions/3.11/lib/python3.11/site-packages/xgboost/training.py:183: UserWarning: [11:11:22] WARNING: /Users/runner/work/xgboost/xgboost/src/learner.cc:738: \n",
      "Parameters: { \"use_label_encoder\" } are not used.\n",
      "\n",
      "  bst.update(dtrain, iteration=i, fobj=obj)\n",
      "/Library/Frameworks/Python.framework/Versions/3.11/lib/python3.11/site-packages/sklearn/utils/_response.py:203: UserWarning: The number of unique classes is greater than 50% of the number of samples.\n",
      "  target_type = type_of_target(classes)\n",
      "/Library/Frameworks/Python.framework/Versions/3.11/lib/python3.11/site-packages/sklearn/utils/_response.py:203: UserWarning: The number of unique classes is greater than 50% of the number of samples.\n",
      "  target_type = type_of_target(classes)\n",
      "/Library/Frameworks/Python.framework/Versions/3.11/lib/python3.11/site-packages/xgboost/training.py:183: UserWarning: [11:11:39] WARNING: /Users/runner/work/xgboost/xgboost/src/learner.cc:738: \n",
      "Parameters: { \"use_label_encoder\" } are not used.\n",
      "\n",
      "  bst.update(dtrain, iteration=i, fobj=obj)\n",
      "/Library/Frameworks/Python.framework/Versions/3.11/lib/python3.11/site-packages/xgboost/training.py:183: UserWarning: [11:11:42] WARNING: /Users/runner/work/xgboost/xgboost/src/learner.cc:738: \n",
      "Parameters: { \"use_label_encoder\" } are not used.\n",
      "\n",
      "  bst.update(dtrain, iteration=i, fobj=obj)\n",
      "/Library/Frameworks/Python.framework/Versions/3.11/lib/python3.11/site-packages/sklearn/utils/_response.py:203: UserWarning: The number of unique classes is greater than 50% of the number of samples.\n",
      "  target_type = type_of_target(classes)\n",
      "/Library/Frameworks/Python.framework/Versions/3.11/lib/python3.11/site-packages/xgboost/training.py:183: UserWarning: [11:11:49] WARNING: /Users/runner/work/xgboost/xgboost/src/learner.cc:738: \n",
      "Parameters: { \"use_label_encoder\" } are not used.\n",
      "\n",
      "  bst.update(dtrain, iteration=i, fobj=obj)\n",
      "/Library/Frameworks/Python.framework/Versions/3.11/lib/python3.11/site-packages/sklearn/utils/_response.py:203: UserWarning: The number of unique classes is greater than 50% of the number of samples.\n",
      "  target_type = type_of_target(classes)\n",
      "/Library/Frameworks/Python.framework/Versions/3.11/lib/python3.11/site-packages/xgboost/training.py:183: UserWarning: [11:12:16] WARNING: /Users/runner/work/xgboost/xgboost/src/learner.cc:738: \n",
      "Parameters: { \"use_label_encoder\" } are not used.\n",
      "\n",
      "  bst.update(dtrain, iteration=i, fobj=obj)\n",
      "/Library/Frameworks/Python.framework/Versions/3.11/lib/python3.11/site-packages/sklearn/utils/_response.py:203: UserWarning: The number of unique classes is greater than 50% of the number of samples.\n",
      "  target_type = type_of_target(classes)\n",
      "/Library/Frameworks/Python.framework/Versions/3.11/lib/python3.11/site-packages/xgboost/training.py:183: UserWarning: [11:12:18] WARNING: /Users/runner/work/xgboost/xgboost/src/learner.cc:738: \n",
      "Parameters: { \"use_label_encoder\" } are not used.\n",
      "\n",
      "  bst.update(dtrain, iteration=i, fobj=obj)\n",
      "/Library/Frameworks/Python.framework/Versions/3.11/lib/python3.11/site-packages/sklearn/utils/_response.py:203: UserWarning: The number of unique classes is greater than 50% of the number of samples.\n",
      "  target_type = type_of_target(classes)\n",
      "/Library/Frameworks/Python.framework/Versions/3.11/lib/python3.11/site-packages/xgboost/training.py:183: UserWarning: [11:12:37] WARNING: /Users/runner/work/xgboost/xgboost/src/learner.cc:738: \n",
      "Parameters: { \"use_label_encoder\" } are not used.\n",
      "\n",
      "  bst.update(dtrain, iteration=i, fobj=obj)\n",
      "/Library/Frameworks/Python.framework/Versions/3.11/lib/python3.11/site-packages/sklearn/utils/_response.py:203: UserWarning: The number of unique classes is greater than 50% of the number of samples.\n",
      "  target_type = type_of_target(classes)\n",
      "/Library/Frameworks/Python.framework/Versions/3.11/lib/python3.11/site-packages/sklearn/utils/_response.py:203: UserWarning: The number of unique classes is greater than 50% of the number of samples.\n",
      "  target_type = type_of_target(classes)\n",
      "/Library/Frameworks/Python.framework/Versions/3.11/lib/python3.11/site-packages/xgboost/training.py:183: UserWarning: [11:12:50] WARNING: /Users/runner/work/xgboost/xgboost/src/learner.cc:738: \n",
      "Parameters: { \"use_label_encoder\" } are not used.\n",
      "\n",
      "  bst.update(dtrain, iteration=i, fobj=obj)\n",
      "/Library/Frameworks/Python.framework/Versions/3.11/lib/python3.11/site-packages/sklearn/utils/_response.py:203: UserWarning: The number of unique classes is greater than 50% of the number of samples.\n",
      "  target_type = type_of_target(classes)\n",
      "/Library/Frameworks/Python.framework/Versions/3.11/lib/python3.11/site-packages/sklearn/utils/_response.py:203: UserWarning: The number of unique classes is greater than 50% of the number of samples.\n",
      "  target_type = type_of_target(classes)\n",
      "/Library/Frameworks/Python.framework/Versions/3.11/lib/python3.11/site-packages/sklearn/utils/_response.py:203: UserWarning: The number of unique classes is greater than 50% of the number of samples.\n",
      "  target_type = type_of_target(classes)\n",
      "/Library/Frameworks/Python.framework/Versions/3.11/lib/python3.11/site-packages/sklearn/utils/_response.py:203: UserWarning: The number of unique classes is greater than 50% of the number of samples.\n",
      "  target_type = type_of_target(classes)\n",
      "/Library/Frameworks/Python.framework/Versions/3.11/lib/python3.11/site-packages/sklearn/utils/_response.py:203: UserWarning: The number of unique classes is greater than 50% of the number of samples.\n",
      "  target_type = type_of_target(classes)\n",
      "/Library/Frameworks/Python.framework/Versions/3.11/lib/python3.11/site-packages/sklearn/utils/_response.py:203: UserWarning: The number of unique classes is greater than 50% of the number of samples.\n",
      "  target_type = type_of_target(classes)\n",
      "/Library/Frameworks/Python.framework/Versions/3.11/lib/python3.11/site-packages/sklearn/utils/_response.py:203: UserWarning: The number of unique classes is greater than 50% of the number of samples.\n",
      "  target_type = type_of_target(classes)\n",
      "/Library/Frameworks/Python.framework/Versions/3.11/lib/python3.11/site-packages/xgboost/training.py:183: UserWarning: [11:14:18] WARNING: /Users/runner/work/xgboost/xgboost/src/learner.cc:738: \n",
      "Parameters: { \"use_label_encoder\" } are not used.\n",
      "\n",
      "  bst.update(dtrain, iteration=i, fobj=obj)\n"
     ]
    },
    {
     "name": "stdout",
     "output_type": "stream",
     "text": [
      "Best XGBoost params: {'colsample_bytree': np.float64(0.6624074561769746), 'learning_rate': np.float64(0.05679835610086079), 'max_depth': 5, 'n_estimators': 137, 'subsample': np.float64(0.7334834444556088)}\n",
      "Best XGBoost CV accuracy: 0.9976375014055293\n",
      "Fitting 3 folds for each of 20 candidates, totalling 60 fits\n"
     ]
    },
    {
     "name": "stderr",
     "output_type": "stream",
     "text": [
      "/Library/Frameworks/Python.framework/Versions/3.11/lib/python3.11/site-packages/sklearn/utils/_response.py:203: UserWarning: The number of unique classes is greater than 50% of the number of samples.\n",
      "  target_type = type_of_target(classes)\n",
      "/Library/Frameworks/Python.framework/Versions/3.11/lib/python3.11/site-packages/sklearn/utils/_response.py:203: UserWarning: The number of unique classes is greater than 50% of the number of samples.\n",
      "  target_type = type_of_target(classes)\n",
      "/Library/Frameworks/Python.framework/Versions/3.11/lib/python3.11/site-packages/sklearn/utils/_response.py:203: UserWarning: The number of unique classes is greater than 50% of the number of samples.\n",
      "  target_type = type_of_target(classes)\n",
      "/Library/Frameworks/Python.framework/Versions/3.11/lib/python3.11/site-packages/sklearn/utils/_response.py:203: UserWarning: The number of unique classes is greater than 50% of the number of samples.\n",
      "  target_type = type_of_target(classes)\n",
      "/Library/Frameworks/Python.framework/Versions/3.11/lib/python3.11/site-packages/sklearn/utils/_response.py:203: UserWarning: The number of unique classes is greater than 50% of the number of samples.\n",
      "  target_type = type_of_target(classes)\n",
      "/Library/Frameworks/Python.framework/Versions/3.11/lib/python3.11/site-packages/sklearn/utils/_response.py:203: UserWarning: The number of unique classes is greater than 50% of the number of samples.\n",
      "  target_type = type_of_target(classes)\n",
      "/Library/Frameworks/Python.framework/Versions/3.11/lib/python3.11/site-packages/sklearn/utils/_response.py:203: UserWarning: The number of unique classes is greater than 50% of the number of samples.\n",
      "  target_type = type_of_target(classes)\n",
      "/Library/Frameworks/Python.framework/Versions/3.11/lib/python3.11/site-packages/sklearn/utils/_response.py:203: UserWarning: The number of unique classes is greater than 50% of the number of samples.\n",
      "  target_type = type_of_target(classes)\n",
      "/Library/Frameworks/Python.framework/Versions/3.11/lib/python3.11/site-packages/sklearn/utils/_response.py:203: UserWarning: The number of unique classes is greater than 50% of the number of samples.\n",
      "  target_type = type_of_target(classes)\n",
      "/Library/Frameworks/Python.framework/Versions/3.11/lib/python3.11/site-packages/sklearn/utils/_response.py:203: UserWarning: The number of unique classes is greater than 50% of the number of samples.\n",
      "  target_type = type_of_target(classes)\n",
      "/Library/Frameworks/Python.framework/Versions/3.11/lib/python3.11/site-packages/sklearn/utils/_response.py:203: UserWarning: The number of unique classes is greater than 50% of the number of samples.\n",
      "  target_type = type_of_target(classes)\n",
      "/Library/Frameworks/Python.framework/Versions/3.11/lib/python3.11/site-packages/sklearn/utils/_response.py:203: UserWarning: The number of unique classes is greater than 50% of the number of samples.\n",
      "  target_type = type_of_target(classes)\n",
      "/Library/Frameworks/Python.framework/Versions/3.11/lib/python3.11/site-packages/sklearn/utils/_response.py:203: UserWarning: The number of unique classes is greater than 50% of the number of samples.\n",
      "  target_type = type_of_target(classes)\n",
      "/Library/Frameworks/Python.framework/Versions/3.11/lib/python3.11/site-packages/sklearn/utils/_response.py:203: UserWarning: The number of unique classes is greater than 50% of the number of samples.\n",
      "  target_type = type_of_target(classes)\n",
      "/Library/Frameworks/Python.framework/Versions/3.11/lib/python3.11/site-packages/sklearn/utils/_response.py:203: UserWarning: The number of unique classes is greater than 50% of the number of samples.\n",
      "  target_type = type_of_target(classes)\n",
      "/Library/Frameworks/Python.framework/Versions/3.11/lib/python3.11/site-packages/sklearn/utils/_response.py:203: UserWarning: The number of unique classes is greater than 50% of the number of samples.\n",
      "  target_type = type_of_target(classes)\n",
      "/Library/Frameworks/Python.framework/Versions/3.11/lib/python3.11/site-packages/sklearn/utils/_response.py:203: UserWarning: The number of unique classes is greater than 50% of the number of samples.\n",
      "  target_type = type_of_target(classes)\n",
      "/Library/Frameworks/Python.framework/Versions/3.11/lib/python3.11/site-packages/sklearn/utils/_response.py:203: UserWarning: The number of unique classes is greater than 50% of the number of samples.\n",
      "  target_type = type_of_target(classes)\n",
      "/Library/Frameworks/Python.framework/Versions/3.11/lib/python3.11/site-packages/sklearn/utils/_response.py:203: UserWarning: The number of unique classes is greater than 50% of the number of samples.\n",
      "  target_type = type_of_target(classes)\n",
      "/Library/Frameworks/Python.framework/Versions/3.11/lib/python3.11/site-packages/sklearn/utils/_response.py:203: UserWarning: The number of unique classes is greater than 50% of the number of samples.\n",
      "  target_type = type_of_target(classes)\n",
      "/Library/Frameworks/Python.framework/Versions/3.11/lib/python3.11/site-packages/sklearn/utils/_response.py:203: UserWarning: The number of unique classes is greater than 50% of the number of samples.\n",
      "  target_type = type_of_target(classes)\n",
      "/Library/Frameworks/Python.framework/Versions/3.11/lib/python3.11/site-packages/sklearn/utils/_response.py:203: UserWarning: The number of unique classes is greater than 50% of the number of samples.\n",
      "  target_type = type_of_target(classes)\n",
      "/Library/Frameworks/Python.framework/Versions/3.11/lib/python3.11/site-packages/sklearn/utils/_response.py:203: UserWarning: The number of unique classes is greater than 50% of the number of samples.\n",
      "  target_type = type_of_target(classes)\n",
      "/Library/Frameworks/Python.framework/Versions/3.11/lib/python3.11/site-packages/sklearn/utils/_response.py:203: UserWarning: The number of unique classes is greater than 50% of the number of samples.\n",
      "  target_type = type_of_target(classes)\n",
      "/Library/Frameworks/Python.framework/Versions/3.11/lib/python3.11/site-packages/sklearn/utils/_response.py:203: UserWarning: The number of unique classes is greater than 50% of the number of samples.\n",
      "  target_type = type_of_target(classes)\n",
      "/Library/Frameworks/Python.framework/Versions/3.11/lib/python3.11/site-packages/sklearn/utils/_response.py:203: UserWarning: The number of unique classes is greater than 50% of the number of samples.\n",
      "  target_type = type_of_target(classes)\n",
      "/Library/Frameworks/Python.framework/Versions/3.11/lib/python3.11/site-packages/sklearn/utils/_response.py:203: UserWarning: The number of unique classes is greater than 50% of the number of samples.\n",
      "  target_type = type_of_target(classes)\n",
      "/Library/Frameworks/Python.framework/Versions/3.11/lib/python3.11/site-packages/sklearn/utils/_response.py:203: UserWarning: The number of unique classes is greater than 50% of the number of samples.\n",
      "  target_type = type_of_target(classes)\n",
      "/Library/Frameworks/Python.framework/Versions/3.11/lib/python3.11/site-packages/sklearn/utils/_response.py:203: UserWarning: The number of unique classes is greater than 50% of the number of samples.\n",
      "  target_type = type_of_target(classes)\n",
      "/Library/Frameworks/Python.framework/Versions/3.11/lib/python3.11/site-packages/sklearn/utils/_response.py:203: UserWarning: The number of unique classes is greater than 50% of the number of samples.\n",
      "  target_type = type_of_target(classes)\n",
      "/Library/Frameworks/Python.framework/Versions/3.11/lib/python3.11/site-packages/sklearn/utils/_response.py:203: UserWarning: The number of unique classes is greater than 50% of the number of samples.\n",
      "  target_type = type_of_target(classes)\n",
      "/Library/Frameworks/Python.framework/Versions/3.11/lib/python3.11/site-packages/sklearn/utils/_response.py:203: UserWarning: The number of unique classes is greater than 50% of the number of samples.\n",
      "  target_type = type_of_target(classes)\n",
      "/Library/Frameworks/Python.framework/Versions/3.11/lib/python3.11/site-packages/sklearn/utils/_response.py:203: UserWarning: The number of unique classes is greater than 50% of the number of samples.\n",
      "  target_type = type_of_target(classes)\n",
      "/Library/Frameworks/Python.framework/Versions/3.11/lib/python3.11/site-packages/sklearn/utils/_response.py:203: UserWarning: The number of unique classes is greater than 50% of the number of samples.\n",
      "  target_type = type_of_target(classes)\n",
      "/Library/Frameworks/Python.framework/Versions/3.11/lib/python3.11/site-packages/sklearn/utils/_response.py:203: UserWarning: The number of unique classes is greater than 50% of the number of samples.\n",
      "  target_type = type_of_target(classes)\n",
      "/Library/Frameworks/Python.framework/Versions/3.11/lib/python3.11/site-packages/sklearn/utils/_response.py:203: UserWarning: The number of unique classes is greater than 50% of the number of samples.\n",
      "  target_type = type_of_target(classes)\n",
      "/Library/Frameworks/Python.framework/Versions/3.11/lib/python3.11/site-packages/sklearn/utils/_response.py:203: UserWarning: The number of unique classes is greater than 50% of the number of samples.\n",
      "  target_type = type_of_target(classes)\n",
      "/Library/Frameworks/Python.framework/Versions/3.11/lib/python3.11/site-packages/sklearn/utils/_response.py:203: UserWarning: The number of unique classes is greater than 50% of the number of samples.\n",
      "  target_type = type_of_target(classes)\n",
      "/Library/Frameworks/Python.framework/Versions/3.11/lib/python3.11/site-packages/sklearn/utils/_response.py:203: UserWarning: The number of unique classes is greater than 50% of the number of samples.\n",
      "  target_type = type_of_target(classes)\n",
      "/Library/Frameworks/Python.framework/Versions/3.11/lib/python3.11/site-packages/sklearn/utils/_response.py:203: UserWarning: The number of unique classes is greater than 50% of the number of samples.\n",
      "  target_type = type_of_target(classes)\n",
      "/Library/Frameworks/Python.framework/Versions/3.11/lib/python3.11/site-packages/sklearn/utils/_response.py:203: UserWarning: The number of unique classes is greater than 50% of the number of samples.\n",
      "  target_type = type_of_target(classes)\n",
      "/Library/Frameworks/Python.framework/Versions/3.11/lib/python3.11/site-packages/sklearn/utils/_response.py:203: UserWarning: The number of unique classes is greater than 50% of the number of samples.\n",
      "  target_type = type_of_target(classes)\n",
      "/Library/Frameworks/Python.framework/Versions/3.11/lib/python3.11/site-packages/sklearn/utils/_response.py:203: UserWarning: The number of unique classes is greater than 50% of the number of samples.\n",
      "  target_type = type_of_target(classes)\n",
      "/Library/Frameworks/Python.framework/Versions/3.11/lib/python3.11/site-packages/sklearn/utils/_response.py:203: UserWarning: The number of unique classes is greater than 50% of the number of samples.\n",
      "  target_type = type_of_target(classes)\n",
      "/Library/Frameworks/Python.framework/Versions/3.11/lib/python3.11/site-packages/sklearn/utils/_response.py:203: UserWarning: The number of unique classes is greater than 50% of the number of samples.\n",
      "  target_type = type_of_target(classes)\n",
      "/Library/Frameworks/Python.framework/Versions/3.11/lib/python3.11/site-packages/sklearn/utils/_response.py:203: UserWarning: The number of unique classes is greater than 50% of the number of samples.\n",
      "  target_type = type_of_target(classes)\n",
      "/Library/Frameworks/Python.framework/Versions/3.11/lib/python3.11/site-packages/sklearn/utils/_response.py:203: UserWarning: The number of unique classes is greater than 50% of the number of samples.\n",
      "  target_type = type_of_target(classes)\n",
      "/Library/Frameworks/Python.framework/Versions/3.11/lib/python3.11/site-packages/sklearn/utils/_response.py:203: UserWarning: The number of unique classes is greater than 50% of the number of samples.\n",
      "  target_type = type_of_target(classes)\n",
      "/Library/Frameworks/Python.framework/Versions/3.11/lib/python3.11/site-packages/sklearn/utils/_response.py:203: UserWarning: The number of unique classes is greater than 50% of the number of samples.\n",
      "  target_type = type_of_target(classes)\n",
      "/Library/Frameworks/Python.framework/Versions/3.11/lib/python3.11/site-packages/sklearn/utils/_response.py:203: UserWarning: The number of unique classes is greater than 50% of the number of samples.\n",
      "  target_type = type_of_target(classes)\n",
      "/Library/Frameworks/Python.framework/Versions/3.11/lib/python3.11/site-packages/sklearn/utils/_response.py:203: UserWarning: The number of unique classes is greater than 50% of the number of samples.\n",
      "  target_type = type_of_target(classes)\n",
      "/Library/Frameworks/Python.framework/Versions/3.11/lib/python3.11/site-packages/sklearn/utils/_response.py:203: UserWarning: The number of unique classes is greater than 50% of the number of samples.\n",
      "  target_type = type_of_target(classes)\n",
      "/Library/Frameworks/Python.framework/Versions/3.11/lib/python3.11/site-packages/sklearn/utils/_response.py:203: UserWarning: The number of unique classes is greater than 50% of the number of samples.\n",
      "  target_type = type_of_target(classes)\n",
      "/Library/Frameworks/Python.framework/Versions/3.11/lib/python3.11/site-packages/sklearn/utils/_response.py:203: UserWarning: The number of unique classes is greater than 50% of the number of samples.\n",
      "  target_type = type_of_target(classes)\n",
      "/Library/Frameworks/Python.framework/Versions/3.11/lib/python3.11/site-packages/sklearn/utils/_response.py:203: UserWarning: The number of unique classes is greater than 50% of the number of samples.\n",
      "  target_type = type_of_target(classes)\n",
      "/Library/Frameworks/Python.framework/Versions/3.11/lib/python3.11/site-packages/sklearn/utils/_response.py:203: UserWarning: The number of unique classes is greater than 50% of the number of samples.\n",
      "  target_type = type_of_target(classes)\n",
      "/Library/Frameworks/Python.framework/Versions/3.11/lib/python3.11/site-packages/sklearn/utils/_response.py:203: UserWarning: The number of unique classes is greater than 50% of the number of samples.\n",
      "  target_type = type_of_target(classes)\n",
      "/Library/Frameworks/Python.framework/Versions/3.11/lib/python3.11/site-packages/sklearn/utils/_response.py:203: UserWarning: The number of unique classes is greater than 50% of the number of samples.\n",
      "  target_type = type_of_target(classes)\n",
      "/Library/Frameworks/Python.framework/Versions/3.11/lib/python3.11/site-packages/sklearn/utils/_response.py:203: UserWarning: The number of unique classes is greater than 50% of the number of samples.\n",
      "  target_type = type_of_target(classes)\n",
      "/Library/Frameworks/Python.framework/Versions/3.11/lib/python3.11/site-packages/sklearn/utils/_response.py:203: UserWarning: The number of unique classes is greater than 50% of the number of samples.\n",
      "  target_type = type_of_target(classes)\n"
     ]
    },
    {
     "name": "stdout",
     "output_type": "stream",
     "text": [
      "Best RF params: {'max_depth': 18, 'max_features': 'log2', 'min_samples_leaf': 2, 'min_samples_split': 2, 'n_estimators': 139}\n",
      "Best RF CV accuracy: 0.9962875018738634\n",
      "Fitting 3 folds for each of 20 candidates, totalling 60 fits\n"
     ]
    },
    {
     "name": "stderr",
     "output_type": "stream",
     "text": [
      "/Library/Frameworks/Python.framework/Versions/3.11/lib/python3.11/site-packages/sklearn/utils/_response.py:203: UserWarning: The number of unique classes is greater than 50% of the number of samples.\n",
      "  target_type = type_of_target(classes)\n",
      "/Library/Frameworks/Python.framework/Versions/3.11/lib/python3.11/site-packages/sklearn/utils/_response.py:203: UserWarning: The number of unique classes is greater than 50% of the number of samples.\n",
      "  target_type = type_of_target(classes)\n",
      "/Library/Frameworks/Python.framework/Versions/3.11/lib/python3.11/site-packages/sklearn/utils/_response.py:203: UserWarning: The number of unique classes is greater than 50% of the number of samples.\n",
      "  target_type = type_of_target(classes)\n",
      "/Library/Frameworks/Python.framework/Versions/3.11/lib/python3.11/site-packages/sklearn/utils/_response.py:203: UserWarning: The number of unique classes is greater than 50% of the number of samples.\n",
      "  target_type = type_of_target(classes)\n",
      "/Library/Frameworks/Python.framework/Versions/3.11/lib/python3.11/site-packages/sklearn/utils/_response.py:203: UserWarning: The number of unique classes is greater than 50% of the number of samples.\n",
      "  target_type = type_of_target(classes)\n",
      "/Library/Frameworks/Python.framework/Versions/3.11/lib/python3.11/site-packages/sklearn/utils/_response.py:203: UserWarning: The number of unique classes is greater than 50% of the number of samples.\n",
      "  target_type = type_of_target(classes)\n",
      "/Library/Frameworks/Python.framework/Versions/3.11/lib/python3.11/site-packages/sklearn/utils/_response.py:203: UserWarning: The number of unique classes is greater than 50% of the number of samples.\n",
      "  target_type = type_of_target(classes)\n",
      "/Library/Frameworks/Python.framework/Versions/3.11/lib/python3.11/site-packages/sklearn/utils/_response.py:203: UserWarning: The number of unique classes is greater than 50% of the number of samples.\n",
      "  target_type = type_of_target(classes)\n",
      "/Library/Frameworks/Python.framework/Versions/3.11/lib/python3.11/site-packages/sklearn/utils/_response.py:203: UserWarning: The number of unique classes is greater than 50% of the number of samples.\n",
      "  target_type = type_of_target(classes)\n",
      "/Library/Frameworks/Python.framework/Versions/3.11/lib/python3.11/site-packages/sklearn/utils/_response.py:203: UserWarning: The number of unique classes is greater than 50% of the number of samples.\n",
      "  target_type = type_of_target(classes)\n",
      "/Library/Frameworks/Python.framework/Versions/3.11/lib/python3.11/site-packages/sklearn/utils/_response.py:203: UserWarning: The number of unique classes is greater than 50% of the number of samples.\n",
      "  target_type = type_of_target(classes)\n",
      "/Library/Frameworks/Python.framework/Versions/3.11/lib/python3.11/site-packages/sklearn/utils/_response.py:203: UserWarning: The number of unique classes is greater than 50% of the number of samples.\n",
      "  target_type = type_of_target(classes)\n",
      "/Library/Frameworks/Python.framework/Versions/3.11/lib/python3.11/site-packages/sklearn/utils/_response.py:203: UserWarning: The number of unique classes is greater than 50% of the number of samples.\n",
      "  target_type = type_of_target(classes)\n",
      "/Library/Frameworks/Python.framework/Versions/3.11/lib/python3.11/site-packages/sklearn/utils/_response.py:203: UserWarning: The number of unique classes is greater than 50% of the number of samples.\n",
      "  target_type = type_of_target(classes)\n",
      "/Library/Frameworks/Python.framework/Versions/3.11/lib/python3.11/site-packages/sklearn/utils/_response.py:203: UserWarning: The number of unique classes is greater than 50% of the number of samples.\n",
      "  target_type = type_of_target(classes)\n",
      "/Library/Frameworks/Python.framework/Versions/3.11/lib/python3.11/site-packages/sklearn/utils/_response.py:203: UserWarning: The number of unique classes is greater than 50% of the number of samples.\n",
      "  target_type = type_of_target(classes)\n",
      "/Library/Frameworks/Python.framework/Versions/3.11/lib/python3.11/site-packages/sklearn/utils/_response.py:203: UserWarning: The number of unique classes is greater than 50% of the number of samples.\n",
      "  target_type = type_of_target(classes)\n",
      "/Library/Frameworks/Python.framework/Versions/3.11/lib/python3.11/site-packages/sklearn/utils/_response.py:203: UserWarning: The number of unique classes is greater than 50% of the number of samples.\n",
      "  target_type = type_of_target(classes)\n",
      "/Library/Frameworks/Python.framework/Versions/3.11/lib/python3.11/site-packages/sklearn/utils/_response.py:203: UserWarning: The number of unique classes is greater than 50% of the number of samples.\n",
      "  target_type = type_of_target(classes)\n",
      "/Library/Frameworks/Python.framework/Versions/3.11/lib/python3.11/site-packages/sklearn/utils/_response.py:203: UserWarning: The number of unique classes is greater than 50% of the number of samples.\n",
      "  target_type = type_of_target(classes)\n",
      "/Library/Frameworks/Python.framework/Versions/3.11/lib/python3.11/site-packages/sklearn/utils/_response.py:203: UserWarning: The number of unique classes is greater than 50% of the number of samples.\n",
      "  target_type = type_of_target(classes)\n",
      "/Library/Frameworks/Python.framework/Versions/3.11/lib/python3.11/site-packages/sklearn/utils/_response.py:203: UserWarning: The number of unique classes is greater than 50% of the number of samples.\n",
      "  target_type = type_of_target(classes)\n",
      "/Library/Frameworks/Python.framework/Versions/3.11/lib/python3.11/site-packages/sklearn/utils/_response.py:203: UserWarning: The number of unique classes is greater than 50% of the number of samples.\n",
      "  target_type = type_of_target(classes)\n",
      "/Library/Frameworks/Python.framework/Versions/3.11/lib/python3.11/site-packages/sklearn/utils/_response.py:203: UserWarning: The number of unique classes is greater than 50% of the number of samples.\n",
      "  target_type = type_of_target(classes)\n",
      "/Library/Frameworks/Python.framework/Versions/3.11/lib/python3.11/site-packages/sklearn/utils/_response.py:203: UserWarning: The number of unique classes is greater than 50% of the number of samples.\n",
      "  target_type = type_of_target(classes)\n",
      "/Library/Frameworks/Python.framework/Versions/3.11/lib/python3.11/site-packages/sklearn/utils/_response.py:203: UserWarning: The number of unique classes is greater than 50% of the number of samples.\n",
      "  target_type = type_of_target(classes)\n",
      "/Library/Frameworks/Python.framework/Versions/3.11/lib/python3.11/site-packages/sklearn/utils/_response.py:203: UserWarning: The number of unique classes is greater than 50% of the number of samples.\n",
      "  target_type = type_of_target(classes)\n",
      "/Library/Frameworks/Python.framework/Versions/3.11/lib/python3.11/site-packages/sklearn/utils/_response.py:203: UserWarning: The number of unique classes is greater than 50% of the number of samples.\n",
      "  target_type = type_of_target(classes)\n",
      "/Library/Frameworks/Python.framework/Versions/3.11/lib/python3.11/site-packages/sklearn/utils/_response.py:203: UserWarning: The number of unique classes is greater than 50% of the number of samples.\n",
      "  target_type = type_of_target(classes)\n",
      "/Library/Frameworks/Python.framework/Versions/3.11/lib/python3.11/site-packages/sklearn/utils/_response.py:203: UserWarning: The number of unique classes is greater than 50% of the number of samples.\n",
      "  target_type = type_of_target(classes)\n",
      "/Library/Frameworks/Python.framework/Versions/3.11/lib/python3.11/site-packages/sklearn/utils/_response.py:203: UserWarning: The number of unique classes is greater than 50% of the number of samples.\n",
      "  target_type = type_of_target(classes)\n",
      "/Library/Frameworks/Python.framework/Versions/3.11/lib/python3.11/site-packages/sklearn/utils/_response.py:203: UserWarning: The number of unique classes is greater than 50% of the number of samples.\n",
      "  target_type = type_of_target(classes)\n",
      "/Library/Frameworks/Python.framework/Versions/3.11/lib/python3.11/site-packages/sklearn/utils/_response.py:203: UserWarning: The number of unique classes is greater than 50% of the number of samples.\n",
      "  target_type = type_of_target(classes)\n",
      "/Library/Frameworks/Python.framework/Versions/3.11/lib/python3.11/site-packages/sklearn/utils/_response.py:203: UserWarning: The number of unique classes is greater than 50% of the number of samples.\n",
      "  target_type = type_of_target(classes)\n",
      "/Library/Frameworks/Python.framework/Versions/3.11/lib/python3.11/site-packages/sklearn/utils/_response.py:203: UserWarning: The number of unique classes is greater than 50% of the number of samples.\n",
      "  target_type = type_of_target(classes)\n",
      "/Library/Frameworks/Python.framework/Versions/3.11/lib/python3.11/site-packages/sklearn/utils/_response.py:203: UserWarning: The number of unique classes is greater than 50% of the number of samples.\n",
      "  target_type = type_of_target(classes)\n",
      "/Library/Frameworks/Python.framework/Versions/3.11/lib/python3.11/site-packages/sklearn/utils/_response.py:203: UserWarning: The number of unique classes is greater than 50% of the number of samples.\n",
      "  target_type = type_of_target(classes)\n",
      "/Library/Frameworks/Python.framework/Versions/3.11/lib/python3.11/site-packages/sklearn/utils/_response.py:203: UserWarning: The number of unique classes is greater than 50% of the number of samples.\n",
      "  target_type = type_of_target(classes)\n",
      "/Library/Frameworks/Python.framework/Versions/3.11/lib/python3.11/site-packages/sklearn/utils/_response.py:203: UserWarning: The number of unique classes is greater than 50% of the number of samples.\n",
      "  target_type = type_of_target(classes)\n",
      "/Library/Frameworks/Python.framework/Versions/3.11/lib/python3.11/site-packages/sklearn/utils/_response.py:203: UserWarning: The number of unique classes is greater than 50% of the number of samples.\n",
      "  target_type = type_of_target(classes)\n",
      "/Library/Frameworks/Python.framework/Versions/3.11/lib/python3.11/site-packages/sklearn/utils/_response.py:203: UserWarning: The number of unique classes is greater than 50% of the number of samples.\n",
      "  target_type = type_of_target(classes)\n",
      "/Library/Frameworks/Python.framework/Versions/3.11/lib/python3.11/site-packages/sklearn/utils/_response.py:203: UserWarning: The number of unique classes is greater than 50% of the number of samples.\n",
      "  target_type = type_of_target(classes)\n",
      "/Library/Frameworks/Python.framework/Versions/3.11/lib/python3.11/site-packages/sklearn/utils/_response.py:203: UserWarning: The number of unique classes is greater than 50% of the number of samples.\n",
      "  target_type = type_of_target(classes)\n",
      "/Library/Frameworks/Python.framework/Versions/3.11/lib/python3.11/site-packages/sklearn/utils/_response.py:203: UserWarning: The number of unique classes is greater than 50% of the number of samples.\n",
      "  target_type = type_of_target(classes)\n",
      "/Library/Frameworks/Python.framework/Versions/3.11/lib/python3.11/site-packages/sklearn/utils/_response.py:203: UserWarning: The number of unique classes is greater than 50% of the number of samples.\n",
      "  target_type = type_of_target(classes)\n",
      "/Library/Frameworks/Python.framework/Versions/3.11/lib/python3.11/site-packages/sklearn/utils/_response.py:203: UserWarning: The number of unique classes is greater than 50% of the number of samples.\n",
      "  target_type = type_of_target(classes)\n",
      "/Library/Frameworks/Python.framework/Versions/3.11/lib/python3.11/site-packages/sklearn/utils/_response.py:203: UserWarning: The number of unique classes is greater than 50% of the number of samples.\n",
      "  target_type = type_of_target(classes)\n",
      "/Library/Frameworks/Python.framework/Versions/3.11/lib/python3.11/site-packages/sklearn/utils/_response.py:203: UserWarning: The number of unique classes is greater than 50% of the number of samples.\n",
      "  target_type = type_of_target(classes)\n",
      "/Library/Frameworks/Python.framework/Versions/3.11/lib/python3.11/site-packages/sklearn/utils/_response.py:203: UserWarning: The number of unique classes is greater than 50% of the number of samples.\n",
      "  target_type = type_of_target(classes)\n",
      "/Library/Frameworks/Python.framework/Versions/3.11/lib/python3.11/site-packages/sklearn/utils/_response.py:203: UserWarning: The number of unique classes is greater than 50% of the number of samples.\n",
      "  target_type = type_of_target(classes)\n",
      "/Library/Frameworks/Python.framework/Versions/3.11/lib/python3.11/site-packages/sklearn/utils/_response.py:203: UserWarning: The number of unique classes is greater than 50% of the number of samples.\n",
      "  target_type = type_of_target(classes)\n",
      "/Library/Frameworks/Python.framework/Versions/3.11/lib/python3.11/site-packages/sklearn/utils/_response.py:203: UserWarning: The number of unique classes is greater than 50% of the number of samples.\n",
      "  target_type = type_of_target(classes)\n",
      "/Library/Frameworks/Python.framework/Versions/3.11/lib/python3.11/site-packages/sklearn/utils/_response.py:203: UserWarning: The number of unique classes is greater than 50% of the number of samples.\n",
      "  target_type = type_of_target(classes)\n",
      "/Library/Frameworks/Python.framework/Versions/3.11/lib/python3.11/site-packages/sklearn/utils/_response.py:203: UserWarning: The number of unique classes is greater than 50% of the number of samples.\n",
      "  target_type = type_of_target(classes)\n",
      "/Library/Frameworks/Python.framework/Versions/3.11/lib/python3.11/site-packages/sklearn/utils/_response.py:203: UserWarning: The number of unique classes is greater than 50% of the number of samples.\n",
      "  target_type = type_of_target(classes)\n",
      "/Library/Frameworks/Python.framework/Versions/3.11/lib/python3.11/site-packages/sklearn/utils/_response.py:203: UserWarning: The number of unique classes is greater than 50% of the number of samples.\n",
      "  target_type = type_of_target(classes)\n",
      "/Library/Frameworks/Python.framework/Versions/3.11/lib/python3.11/site-packages/sklearn/utils/_response.py:203: UserWarning: The number of unique classes is greater than 50% of the number of samples.\n",
      "  target_type = type_of_target(classes)\n",
      "/Library/Frameworks/Python.framework/Versions/3.11/lib/python3.11/site-packages/sklearn/utils/_response.py:203: UserWarning: The number of unique classes is greater than 50% of the number of samples.\n",
      "  target_type = type_of_target(classes)\n",
      "/Library/Frameworks/Python.framework/Versions/3.11/lib/python3.11/site-packages/sklearn/utils/_response.py:203: UserWarning: The number of unique classes is greater than 50% of the number of samples.\n",
      "  target_type = type_of_target(classes)\n",
      "/Library/Frameworks/Python.framework/Versions/3.11/lib/python3.11/site-packages/sklearn/utils/_response.py:203: UserWarning: The number of unique classes is greater than 50% of the number of samples.\n",
      "  target_type = type_of_target(classes)\n"
     ]
    },
    {
     "name": "stdout",
     "output_type": "stream",
     "text": [
      "Best LR params: {'C': np.float64(3.052422429595377), 'max_iter': 1000, 'penalty': 'l2', 'solver': 'lbfgs'}\n",
      "Best LR CV accuracy: 0.9978749989055723\n"
     ]
    }
   ],
   "source": [
    "\n",
    "from sklearn.model_selection import RandomizedSearchCV\n",
    "from scipy.stats import randint, uniform\n",
    "import numpy as np\n",
    "\n",
    "# XGBoost hyperparameter tuning\n",
    "xgb_param_grid = {\n",
    "    'n_estimators': randint(50, 200),\n",
    "    'max_depth': randint(3, 10),\n",
    "    'learning_rate': uniform(0.01, 0.3),\n",
    "    'subsample': uniform(0.6, 0.4),\n",
    "    'colsample_bytree': uniform(0.6, 0.4)\n",
    "}\n",
    "xgb_search = RandomizedSearchCV(\n",
    "    xgb, xgb_param_grid, n_iter=20, scoring='accuracy', n_jobs=-1, cv=3, random_state=42, verbose=1\n",
    ")\n",
    "xgb_search.fit(X_train, y_train_enc)\n",
    "print(\"Best XGBoost params:\", xgb_search.best_params_)\n",
    "print(\"Best XGBoost CV accuracy:\", xgb_search.best_score_)\n",
    "\n",
    "# Random Forest hyperparameter tuning\n",
    "rf_param_grid = {\n",
    "    'n_estimators': randint(50, 200),\n",
    "    'max_depth': randint(5, 20),\n",
    "    'min_samples_split': randint(2, 10),\n",
    "    'min_samples_leaf': randint(1, 5),\n",
    "    'max_features': ['sqrt', 'log2', None]\n",
    "}\n",
    "rf_search = RandomizedSearchCV(\n",
    "    rf, rf_param_grid, n_iter=20, scoring='accuracy', n_jobs=-1, cv=3, random_state=42, verbose=1\n",
    ")\n",
    "rf_search.fit(X_train, y_train)\n",
    "print(\"Best RF params:\", rf_search.best_params_)\n",
    "print(\"Best RF CV accuracy:\", rf_search.best_score_)\n",
    "\n",
    "# Logistic Regression hyperparameter tuning\n",
    "lr_param_grid = {\n",
    "    'C': uniform(0.01, 10),\n",
    "    'penalty': ['l2'],\n",
    "    'solver': ['lbfgs', 'saga'],\n",
    "    'max_iter': [500, 1000, 2000]\n",
    "}\n",
    "lr_search = RandomizedSearchCV(\n",
    "    lr, lr_param_grid, n_iter=20, scoring='accuracy', n_jobs=-1, cv=3, random_state=42, verbose=1\n",
    ")\n",
    "lr_search.fit(X_train, y_train)\n",
    "print(\"Best LR params:\", lr_search.best_params_)\n",
    "print(\"Best LR CV accuracy:\", lr_search.best_score_)"
   ]
  }
 ],
 "metadata": {
  "kernelspec": {
   "display_name": "Python 3",
   "language": "python",
   "name": "python3"
  },
  "language_info": {
   "codemirror_mode": {
    "name": "ipython",
    "version": 3
   },
   "file_extension": ".py",
   "mimetype": "text/x-python",
   "name": "python",
   "nbconvert_exporter": "python",
   "pygments_lexer": "ipython3",
   "version": "3.11.0"
  }
 },
 "nbformat": 4,
 "nbformat_minor": 5
}
